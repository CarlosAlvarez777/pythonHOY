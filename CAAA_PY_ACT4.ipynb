{
  "nbformat": 4,
  "nbformat_minor": 0,
  "metadata": {
    "colab": {
      "provenance": [],
      "authorship_tag": "ABX9TyPegosf+NAcHO7C+9NQxHqn",
      "include_colab_link": true
    },
    "kernelspec": {
      "name": "python3",
      "display_name": "Python 3"
    },
    "language_info": {
      "name": "python"
    }
  },
  "cells": [
    {
      "cell_type": "markdown",
      "metadata": {
        "id": "view-in-github",
        "colab_type": "text"
      },
      "source": [
        "<a href=\"https://colab.research.google.com/github/CarlosAlvarez777/pythonHOY/blob/CAAA_PY_ACT4/CAAA_PY_ACT4.ipynb\" target=\"_parent\"><img src=\"https://colab.research.google.com/assets/colab-badge.svg\" alt=\"Open In Colab\"/></a>"
      ]
    },
    {
      "cell_type": "markdown",
      "source": [
        "# **REALIZA LOS SIGUIENTES EJERCICIOS USANDO LA FORMA ADECUADA Y USANDO try Except NO DEBERA FALLAR EL PROGRAMA.**"
      ],
      "metadata": {
        "id": "1OLSizqVA3R9"
      }
    },
    {
      "cell_type": "markdown",
      "source": [
        "1.- Programa en python   que lea 3 calificaciones calcule el promedio del alumno y desplegar:\n",
        "\n",
        "Si prom < 30 Repetir\n",
        "\n",
        "Si prom >=30 y prom <60 extraordinario\n",
        "\n",
        "Si prom >=60 y prom <70 suficiente\n",
        "\n",
        "Si prom >=70 y prom <80 Regular\n",
        "\n",
        "Si prom >=80 y prom <90 bien\n",
        "\n",
        "Si prom >=90 y prom <98 muy bien\n",
        "\n",
        "Si prom >=98 y prom <=100 excelente\n",
        "\n",
        "Si prom >100 Error en promedio\n",
        "\n",
        "Realizar el algoritmo optimizado"
      ],
      "metadata": {
        "id": "7ick6JynBEGj"
      }
    },
    {
      "cell_type": "code",
      "source": [
        "from traitlets.traitlets import Type\n",
        "try:\n",
        "    c1 = float(input(\"Inserte su calificacion: \"))\n",
        "    c2 = float(input(\"Inserte su calificacion: \"))\n",
        "    c3 = float(input(\"Inserte su calificacion: \"))\n",
        "except ValueError:\n",
        "    print (\"Que parte de calificacion no entendiste\")\n",
        "except TypeError:\n",
        "    print (\"Que parte de calificacion no entendiste\")\n",
        "else:\n",
        "    prom = (c1 + c2 + c3) / 3\n",
        "    if prom < 80:\n",
        "        if prom < 60:\n",
        "            if prom < 30:\n",
        "                print (\"Repetir\")\n",
        "            else:\n",
        "                print (\"Extraordinario\")\n",
        "        else:\n",
        "            if prom < 70:\n",
        "                print (\"Suficiente\")\n",
        "            else:\n",
        "                print (\"Regular\")\n",
        "    else:\n",
        "        if prom < 98:\n",
        "            if prom < 90:\n",
        "                print (\"Bien\")\n",
        "            else:\n",
        "                print (\"Muy bien\")\n",
        "        else:\n",
        "            if prom > 100:\n",
        "                print (\"Error\")\n",
        "            else:\n",
        "                print (\"Excelente\")"
      ],
      "metadata": {
        "colab": {
          "base_uri": "https://localhost:8080/"
        },
        "id": "bcSa5N9kBIWY",
        "outputId": "746fe2aa-53d5-420b-ce8a-ded1910ea87f"
      },
      "execution_count": 5,
      "outputs": [
        {
          "output_type": "stream",
          "name": "stdout",
          "text": [
            "Inserte su calificacion: 100\n",
            "Inserte su calificacion: 100\n",
            "Inserte su calificacion: 100\n",
            "Excelente\n"
          ]
        }
      ]
    },
    {
      "cell_type": "markdown",
      "source": [
        "2.- Programa en Python que sirva para calcular el salario semanal de un trabajador donde se obtiene como dato de entrada las horas semanales trabajadas, el salario por hora.\n",
        "\n",
        "El programa deberá calcular el salario normal, salario extra y salario total, considerando lo siguiente:\n",
        "\n",
        "Jornada Normal de 40 horas.\n",
        "El salario normal se considera las horas trabajadas menores o igual a la jornada normal\n",
        "Salario extra se considera las horas trabajadas mayores a la jornada normal y se pagan dobles las primeras 9 y triples a partir de la décima hora extra\n",
        "\n",
        "\n",
        "Nota: Desplegar todos los datos (Salario x hora, Horas Trabajadas, Salario normal, Salario extra y Salario Total)"
      ],
      "metadata": {
        "id": "uw6c4p3eFjgE"
      }
    },
    {
      "cell_type": "code",
      "source": [
        "try:\n",
        "  horas = int(input(\"Ingrese las horas semanales trabajadas: \"))\n",
        "  sh = float(input(\"Ingrese el salario por hora: \"))\n",
        "except:\n",
        "  print (\"Error: Valores invalidos\")\n",
        "else:\n",
        "    jn=40\n",
        "    if horas > jn:\n",
        "        if horas > jn + 9:\n",
        "            sn = horas * sh\n",
        "            se = sh * 3\n",
        "            st = sn + se\n",
        "        else:\n",
        "            sn = horas * sh\n",
        "            se = sh * 2\n",
        "            st = sn + se\n",
        "    else:\n",
        "        sn = horas*sh\n",
        "        st = sn\n",
        "        se = 0\n",
        "finally:\n",
        "    print(\"Salario por hora: \", sh)\n",
        "    print(\"Horas trabajadas: \", horas)\n",
        "    print(\"Salario normal: \", sn)\n",
        "    print(\"Salario extra: \", se)\n",
        "    print(\"Salario total: \", st)"
      ],
      "metadata": {
        "colab": {
          "base_uri": "https://localhost:8080/"
        },
        "id": "bB8jCs64Fn_0",
        "outputId": "268334f8-87dd-4cd5-9b4d-5602f3bd4e79"
      },
      "execution_count": 6,
      "outputs": [
        {
          "output_type": "stream",
          "name": "stdout",
          "text": [
            "Ingrese las horas semanales trabajadas: 35\n",
            "Ingrese el salario por hora: 100\n",
            "Salario por hora:  100.0\n",
            "Horas trabajadas:  35\n",
            "Salario normal:  3500.0\n",
            "Salario extra:  0\n",
            "Salario total:  3500.0\n"
          ]
        }
      ]
    },
    {
      "cell_type": "markdown",
      "source": [
        "3.- Algoritmo que sirva para calcular el Total a pagar por consumo de agua, donde el dato de entrada son los M3 de agua consumidos, Tomar en cuenta que se cobra escalonada de la Siguiente manera:\n",
        "\n",
        "Rango 1: 0 a 4 M^3 $50 x facturación sin importar cuánto consumió en este rango\n",
        "\n",
        "Rango 2: 5 a 15 M^3 $8.00 x M3\n",
        "\n",
        "Rango 3: 16 a 50 M^3 $10.00 x M3\n",
        "\n",
        "Rango 4: 51 M^3 en adelante $11.00 x M3\n",
        "\n",
        "Nota: Desplegar SubTotal, Iva(16%), y Total a pagar."
      ],
      "metadata": {
        "id": "dyClDpiyIpjE"
      }
    },
    {
      "cell_type": "code",
      "source": [
        "try:\n",
        "    mc = float(input(\"Inserte los metros cubicos de agua consumidos: \"))\n",
        "except:\n",
        "    print (\"Error: Valores invalidos\")\n",
        "else:\n",
        "    if mc < 16:\n",
        "        if mc < 5:\n",
        "            print (\"Consumo rango 1\")\n",
        "            subtotal = 50\n",
        "        else:\n",
        "            print (\"Consumo rango 2\")\n",
        "            subtotal = mc * 8\n",
        "    else:\n",
        "        if mc <= 50:\n",
        "            print (\"Consumo rango 3\")\n",
        "            subtotal = 50 + (mc * 8) + (mc * 10)\n",
        "        else:\n",
        "            print (\"Consumo rango 4\")\n",
        "            subtotal= 50 + (mc * 8) + (mc * 10) + (mc * 11)\n",
        "    iva = subtotal * 0.16\n",
        "    total = subtotal + iva\n",
        "finally:\n",
        "    print (\"Subtotal: \", subtotal)\n",
        "    print (\"IVA:\", iva)\n",
        "    print (\"Total\", total)"
      ],
      "metadata": {
        "colab": {
          "base_uri": "https://localhost:8080/"
        },
        "id": "fG1_GdttIxZt",
        "outputId": "3eecbbd8-212a-479d-8146-206da5542062"
      },
      "execution_count": 7,
      "outputs": [
        {
          "output_type": "stream",
          "name": "stdout",
          "text": [
            "Inserte los metros cubicos de agua consumidos: 126\n",
            "Consumo rango 4\n",
            "Subtotal:  3704.0\n",
            "IVA: 592.64\n",
            "Total 4296.64\n"
          ]
        }
      ]
    },
    {
      "cell_type": "markdown",
      "source": [
        "4- En la materia de Metodología de la programación se aplican 5 exámenes, calcular el promedio final de la materia donde la calificación menor de los exámenes se anula y el promedio se calcula en base a 4 exámenes.\n",
        "\n",
        "Desplegar el promedio final. y cual es la mas baja que se elimino."
      ],
      "metadata": {
        "id": "mysV7BNDLGjz"
      }
    },
    {
      "cell_type": "code",
      "source": [
        "try:\n",
        "    c1 = float(input(\"Inserte la calificacion del examen: \"))\n",
        "    c2 = float(input(\"Inserte la calificacion del examen: \"))\n",
        "    c3 = float(input(\"Inserte la calificacion del examen: \"))\n",
        "    c4 = float(input(\"Inserte la calificacion del examen: \"))\n",
        "    c5 = float(input(\"Inserte la calificacion del examen: \"))\n",
        "except:\n",
        "    print (\"Error: Valores invalidos\")\n",
        "else:\n",
        "    menor = min([c1, c2, c3, c4, c5])\n",
        "    print(\"Al ser menor se anula la calificacion \",menor)\n",
        "    prom = ((c1 + c2 + c3 + c4 + c5) - menor) /4\n",
        "    print (\"Promedio: \",prom)"
      ],
      "metadata": {
        "colab": {
          "base_uri": "https://localhost:8080/"
        },
        "id": "zi57VwbwLZG8",
        "outputId": "27c631f9-0449-4d3e-d864-5880f323a2b9"
      },
      "execution_count": 8,
      "outputs": [
        {
          "output_type": "stream",
          "name": "stdout",
          "text": [
            "Inserte la calificacion del examen: 100\n",
            "Inserte la calificacion del examen: 98\n",
            "Inserte la calificacion del examen: 100\n",
            "Inserte la calificacion del examen: 100\n",
            "Inserte la calificacion del examen: 100\n",
            "Al ser menor se anula la calificacion  98.0\n",
            "Promedio:  100.0\n"
          ]
        }
      ]
    },
    {
      "cell_type": "markdown",
      "source": [
        "5.- Programa en Python que sirva para el juego del CHINCHAMPU (Piedra, Papel, Tijera) para 1 jugador y la computadora"
      ],
      "metadata": {
        "id": "572PytM9DcE8"
      }
    },
    {
      "cell_type": "code",
      "source": [
        "import random"
      ],
      "metadata": {
        "id": "f4vQ8mCiFJgO"
      },
      "execution_count": 9,
      "outputs": []
    },
    {
      "cell_type": "code",
      "source": [
        "print(\"Elige una opcion:\")\n",
        "print(\"1 = Piedra\")\n",
        "print(\"2 = Papel\")\n",
        "print(\"3 = Tijera\")\n",
        "try:\n",
        "    jugador = int(input())\n",
        "    pc = random.randint(1,3)\n",
        "except:\n",
        "  print (\"Error: Valores invalidos\")\n",
        "else:\n",
        "    if jugador==1:\n",
        "        print(\"El usuario ha seleccionado piedra\")\n",
        "    elif jugador==2:\n",
        "        print(\"El usuario ha seleccionado papel\")\n",
        "    elif jugador==3:\n",
        "        print(\"El usuario ha selecionado tijeras\")\n",
        "    else:\n",
        "        print(\"Error: No se puede seleccionar otra cosa que no sea piedra, papel o tijera.\")\n",
        "    if pc==1:\n",
        "        print(\"La pc ha seleccionado piedra\")\n",
        "    elif pc==2:\n",
        "        print(\"La pc ha seleccionado papel\")\n",
        "    elif pc==3:\n",
        "        print(\"La pc ha selecionado tijeras\")\n",
        "    else:\n",
        "        print(\"Error: No se puede seleccionar otra cosa que no sea piedra, papel o tijera.\")\n",
        "    if jugador==pc:\n",
        "        print(\"Es un empate\")\n",
        "    elif jugador==1:\n",
        "        if pc==3:\n",
        "            print(\"El ganador es el usuario\")\n",
        "    elif jugador==2:\n",
        "        if pc==1:\n",
        "            print(\"El ganador es el usuario\")\n",
        "    elif jugador==3:\n",
        "        if pc==2:\n",
        "            print(\"El ganador es el usuario\")\n",
        "    else:\n",
        "        print(\"El ganador es la pc\")"
      ],
      "metadata": {
        "colab": {
          "base_uri": "https://localhost:8080/"
        },
        "id": "vFq5pAwwDecL",
        "outputId": "85047816-58e8-437b-aff6-d12096afd944"
      },
      "execution_count": 12,
      "outputs": [
        {
          "output_type": "stream",
          "name": "stdout",
          "text": [
            "Elige una opcion:\n",
            "1 = Piedra\n",
            "2 = Papel\n",
            "3 = Tijera\n",
            "3\n",
            "El usuario ha selecionado tijeras\n",
            "La pc ha seleccionado papel\n",
            "El ganador es el usuario\n"
          ]
        }
      ]
    },
    {
      "cell_type": "markdown",
      "source": [
        "6.- Programa en Python que lea 4 números enteros desplegar cuales el menor, cual es mayor"
      ],
      "metadata": {
        "id": "nAcqH6Qtazo7"
      }
    },
    {
      "cell_type": "code",
      "source": [
        "try:\n",
        "    n1 = int(input(\"Inserte el primer numero: \"))\n",
        "    n2 = int(input(\"Inserte el segundo numero: \"))\n",
        "    n3 = int(input(\"Inserte el tercer numero: \"))\n",
        "    n4 = int(input(\"Inserte el cuarto numero: \"))\n",
        "except:\n",
        "  print (\"Error: Valores invalidos\")\n",
        "else:\n",
        "    menor = min([n1, n2, n3, n4])\n",
        "    mayor = max([n1, n2, n3, n4])\n",
        "    print(\"El numero menor es: \",menor)\n",
        "    print(\"El numero mayor es: \",mayor)"
      ],
      "metadata": {
        "colab": {
          "base_uri": "https://localhost:8080/"
        },
        "id": "jjMvLyYQa-Oi",
        "outputId": "d15695e0-7144-4465-8afc-98ae16146e82"
      },
      "execution_count": 13,
      "outputs": [
        {
          "output_type": "stream",
          "name": "stdout",
          "text": [
            "Inserte un numero: 1\n",
            "Inserte un numero: 5\n",
            "Inserte un numero: 4\n",
            "Inserte un numero: 7\n",
            "El numero menor es:  1\n",
            "El numero mayor es:  7\n"
          ]
        }
      ]
    },
    {
      "cell_type": "markdown",
      "source": [
        "7.- Programa en Python que sirva para calcular el área de un triangulo, los datos de entrada deben ser forzosamente de tipo real"
      ],
      "metadata": {
        "id": "zQTlSwd5c4Rl"
      }
    },
    {
      "cell_type": "code",
      "source": [
        "print(\"Calcular el area de un triangulo\")\n",
        "try:\n",
        "    base = float(input(\"Inserte la base: \"))\n",
        "    altura = float(input(\"Inserte la altura: \"))\n",
        "\n",
        "except:\n",
        "    print(\"Error: Valores invalidos\")\n",
        "else:\n",
        "    area = base * altura / 2\n",
        "    print(f\"El area del triangulo es: {area}\")"
      ],
      "metadata": {
        "colab": {
          "base_uri": "https://localhost:8080/"
        },
        "id": "pBNic5U-cEut",
        "outputId": "6d7725f1-c67d-43eb-c0b7-23d256392de4"
      },
      "execution_count": 14,
      "outputs": [
        {
          "output_type": "stream",
          "name": "stdout",
          "text": [
            "Calcular el area de un triangulo\n",
            "Inserte la base: 25\n",
            "Inserte la altura: 41\n",
            "El area del triangulo es: 512.5\n"
          ]
        }
      ]
    },
    {
      "cell_type": "markdown",
      "source": [
        "8.- Programa en Python que sirva para calcular el área de un circulo"
      ],
      "metadata": {
        "id": "Ikc257LVdCi2"
      }
    },
    {
      "cell_type": "code",
      "source": [
        "try:\n",
        "  radio = float(input(\"Inserte el radio en m: \"))\n",
        "except:\n",
        "  print(\"Error: Valores invalidos\")\n",
        "else:\n",
        "    pi = 3.14\n",
        "    area = pi * ( radio ** 2)\n",
        "    print(\"El area es:\", area)"
      ],
      "metadata": {
        "colab": {
          "base_uri": "https://localhost:8080/"
        },
        "id": "SHhbMJE-dEmZ",
        "outputId": "5e497115-e452-4f4a-a990-3ab4d7ffebf1"
      },
      "execution_count": 16,
      "outputs": [
        {
          "output_type": "stream",
          "name": "stdout",
          "text": [
            "Inserte el radio en m: 7\n",
            "El area es: 153.86\n"
          ]
        }
      ]
    }
  ]
}