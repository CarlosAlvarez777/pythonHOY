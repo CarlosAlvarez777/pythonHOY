{
  "nbformat": 4,
  "nbformat_minor": 0,
  "metadata": {
    "colab": {
      "provenance": [],
      "authorship_tag": "ABX9TyOkHEOUpS6h6UObIdIlfqoS",
      "include_colab_link": true
    },
    "kernelspec": {
      "name": "python3",
      "display_name": "Python 3"
    },
    "language_info": {
      "name": "python"
    }
  },
  "cells": [
    {
      "cell_type": "markdown",
      "metadata": {
        "id": "view-in-github",
        "colab_type": "text"
      },
      "source": [
        "<a href=\"https://colab.research.google.com/github/CarlosAlvarez777/pythonHOY/blob/CAAA_PY_ACT12/CAAA_PY_ACT12.ipynb\" target=\"_parent\"><img src=\"https://colab.research.google.com/assets/colab-badge.svg\" alt=\"Open In Colab\"/></a>"
      ]
    },
    {
      "cell_type": "markdown",
      "source": [
        "MENU\n",
        "\n",
        "1.- Agregar (automatico 10)\n",
        "\n",
        "2.- Eliminar {ID}\n",
        "\n",
        "3.- Imprimir lista ( tabla)\n",
        "\n",
        "4.- Buscar {ID}\n",
        "\n",
        "5.- Buscar {appat} todas las coincidencias\n",
        "\n",
        "6.- Ordenar {ID}\n",
        "\n",
        "7.- Generar archivo {ID} (preguntar nombre del archivo)\n",
        "\n",
        "   a) excel\n",
        "\n",
        " b) txt\n",
        "\n",
        " c) cvs\n",
        "\n",
        " d) MarkDown\n",
        "\n",
        "8.- Cargar archivo {ID}\n",
        "\n",
        "9.- Imprimir archivo {ID}\n",
        "\n",
        "10.- Borrar Toda la lista {ID}\n",
        "\n",
        "0.- SALIR\n",
        "\n",
        "\n",
        "\n",
        "NOTA: Los datos del diccionario son los Datos básicos de un trabajador de una fabrica.\n",
        "\n",
        "\n",
        "\n",
        "\n",
        "NOTA 2: VALIDAR EL PROGRAMA 100%\n",
        "\n",
        "Preguntar siempre si esta seguro eliminar, No ordenar si ya esta Ordenado, decir si lista vacía, no existe o mostrar si estala búsqueda, No se permiten ID repetidos"
      ],
      "metadata": {
        "id": "nKfKwhISKwwX"
      }
    },
    {
      "cell_type": "code",
      "execution_count": 51,
      "metadata": {
        "id": "KbKWMmrfKnPR"
      },
      "outputs": [],
      "source": [
        "import pandas as pd\n",
        "import random\n",
        "from IPython.display import clear_output"
      ]
    },
    {
      "cell_type": "code",
      "source": [
        "from google.colab import drive\n",
        "drive.mount('/content/drive')"
      ],
      "metadata": {
        "colab": {
          "base_uri": "https://localhost:8080/"
        },
        "id": "dQXreVXbMcGn",
        "outputId": "ba768378-bd98-43fb-c1b6-80462e3d080a"
      },
      "execution_count": 52,
      "outputs": [
        {
          "output_type": "stream",
          "name": "stdout",
          "text": [
            "Drive already mounted at /content/drive; to attempt to forcibly remount, call drive.mount(\"/content/drive\", force_remount=True).\n"
          ]
        }
      ]
    },
    {
      "cell_type": "code",
      "source": [
        "ruta = \"/content/drive/MyDrive/CAAA_PY_ACT12\""
      ],
      "metadata": {
        "id": "8TKVVzj-MovI"
      },
      "execution_count": 72,
      "outputs": []
    },
    {
      "cell_type": "code",
      "source": [
        "import os\n",
        "path = \"/content/drive/MyDrive/CAAA_PY_ACT12\""
      ],
      "metadata": {
        "id": "SQX_RNJLM30N"
      },
      "execution_count": 54,
      "outputs": []
    },
    {
      "cell_type": "code",
      "source": [
        "import sys\n",
        "sys.path.append(ruta)"
      ],
      "metadata": {
        "id": "VU-qrdRWMyGR"
      },
      "execution_count": 55,
      "outputs": []
    },
    {
      "cell_type": "code",
      "source": [
        "trabajadores = {}"
      ],
      "metadata": {
        "id": "gfUgZdX-LPZ2"
      },
      "execution_count": 56,
      "outputs": []
    },
    {
      "cell_type": "code",
      "source": [
        "def vali_num(numero):\n",
        "    try:\n",
        "        int(numero)\n",
        "        return True\n",
        "    except ValueError:\n",
        "        return False"
      ],
      "metadata": {
        "id": "xGg-dQ0lLTOW"
      },
      "execution_count": 57,
      "outputs": []
    },
    {
      "cell_type": "code",
      "source": [
        "def registro():\n",
        "    valores = []\n",
        "\n",
        "    nombre_h = [\"Juan\", \"Luis\", \"Carlos\", \"Roberto\", \"Pedro\", \"Abraham\", \"Tulio\"]\n",
        "    nombre_m = [\"Sandra\", \"Lupita\", \"Maria\", \"Sonia\", \"Ana\", \"Vanessa\", \"Cristina\"]\n",
        "    apellidos = [\"Villalobos\", \"Sanchez\", \"Perez\", \"Casas\", \"Paredes\", \"Alvarez\", \"Huerta\", \"Gutierrez\", \"Herrera\", \"Chavez\", \"Cota\"]\n",
        "\n",
        "    puesto = [\"Supervisor\", \"Encargad@\", \"Conserje\", \"Gerente\", \"Guardia\", \"Empleado Gral\", \"Jefe\"]\n",
        "    sexo = [\"HOMBRE\", \"MUJER\"]\n",
        "\n",
        "    valores.append(random.randint(10, 500))\n",
        "    valores.append(random.choice(apellidos))\n",
        "    valores.append(random.choice(apellidos))\n",
        "    sex = random.randint(0, 1)\n",
        "    if sex == 0:\n",
        "        valores.append(random.choice(nombre_h))\n",
        "    else:\n",
        "        valores.append(random.choice(nombre_m))\n",
        "\n",
        "    valores.append(random.choice(puesto))\n",
        "    valores.append(sexo[sex])\n",
        "    return valores"
      ],
      "metadata": {
        "id": "v7y4xTElWZC7"
      },
      "execution_count": 58,
      "outputs": []
    },
    {
      "cell_type": "code",
      "source": [
        "def agregar_trabajadores_automatico(cantidad=10):\n",
        "    try:\n",
        "        for _ in range(cantidad):\n",
        "            datos = registro()\n",
        "            id = datos[0]\n",
        "            trabajadores[id] = {\n",
        "                'Nombre': datos[3],\n",
        "                'Apellido Paterno': datos[1],\n",
        "                'Apellido Materno': datos[2],\n",
        "                'Puesto': datos[4],\n",
        "                'Sexo': datos[5]\n",
        "            }\n",
        "\n",
        "        print(f\"{cantidad} trabajadores agregados automáticamente.\")\n",
        "    except Exception as e:\n",
        "        print(f\"Error al agregar trabajadores automáticamente: {e}\")"
      ],
      "metadata": {
        "id": "7uQh-cdkLdls"
      },
      "execution_count": 59,
      "outputs": []
    },
    {
      "cell_type": "code",
      "source": [
        "def eliminar_trabajador(id):\n",
        "    if id in trabajadores:\n",
        "        del trabajadores[id]\n",
        "        print(f\"Trabajador con ID {id} eliminado exitosamente.\")\n",
        "    else:\n",
        "        print(f\"No se encontró un trabajador con ID {id} en la lista.\")"
      ],
      "metadata": {
        "id": "KZzFiVeXLl2c"
      },
      "execution_count": 60,
      "outputs": []
    },
    {
      "cell_type": "code",
      "source": [
        "def imprimir_lista():\n",
        "    if not trabajadores:\n",
        "        print(\"La lista de trabajadores está vacía.\")\n",
        "    else:\n",
        "        print(\"| ID | Nombre | Apellido Paterno | Apellido Materno | Puesto | Sexo |\")\n",
        "        print(\"|----|--------|------------------|------------------|-------|------|\")\n",
        "        for id, datos in trabajadores.items():\n",
        "            print(f\"| {id} | {datos['Nombre']} | {datos['Apellido Paterno']} | {datos.get('Apellido Materno', '-')} | {datos.get('Puesto', '-')} | {datos.get('Sexo', '-')} |\")"
      ],
      "metadata": {
        "id": "Fk6aDxxvLqW5"
      },
      "execution_count": 61,
      "outputs": []
    },
    {
      "cell_type": "code",
      "source": [
        "def buscar_por_id(id):\n",
        "    if id in trabajadores:\n",
        "        print(f\"ID: {id}, Nombre: {trabajadores[id]['Nombre']}, Apellido Paterno: {trabajadores[id]['Apellido Paterno']}, \"\n",
        "              f\"Apellido Materno: {trabajadores[id]['Apellido Materno']}, Puesto: {trabajadores[id]['Puesto']}, \"\n",
        "              f\"Sexo: {trabajadores[id]['Sexo']}\")\n",
        "    else:\n",
        "        print(f\"No se encontró un trabajador con ID {id} en la lista.\")"
      ],
      "metadata": {
        "id": "on_LGAR0Lu35"
      },
      "execution_count": 62,
      "outputs": []
    },
    {
      "cell_type": "code",
      "source": [
        "def buscar_por_appat(appat):\n",
        "    coincidencias = [id for id, datos in trabajadores.items() if datos['Apellido Paterno'] == appat]\n",
        "    if coincidencias:\n",
        "        print(\"Coincidencias encontradas:\")\n",
        "        for id in coincidencias:\n",
        "            datos = trabajadores[id]\n",
        "            print(f\"ID: {id}, Nombre: {datos['Nombre']}, Apellido Paterno: {datos['Apellido Paterno']}, \"\n",
        "                  f\"Apellido Materno: {datos.get('Apellido Materno', '-')}, Puesto: {datos.get('Puesto', '-')}, \"\n",
        "                  f\"Sexo: {datos.get('Sexo', '-')}\")\n",
        "\n",
        "    else:\n",
        "        print(f\"No se encontraron trabajadores con Apellido Paterno '{appat}'.\")"
      ],
      "metadata": {
        "id": "d4-x6iaqLwOh"
      },
      "execution_count": 63,
      "outputs": []
    },
    {
      "cell_type": "code",
      "source": [
        "def ordenar_lista():\n",
        "    trabajadores_ordenados = dict(sorted(trabajadores.items(), key=lambda x: x[0]))\n",
        "    trabajadores.clear()\n",
        "    trabajadores.update(trabajadores_ordenados)\n",
        "    print(\"Lista de trabajadores ordenada por ID.\")"
      ],
      "metadata": {
        "id": "LM0kXDtcL2kY"
      },
      "execution_count": 64,
      "outputs": []
    },
    {
      "cell_type": "code",
      "source": [
        "def generar_archivo(extension):\n",
        "    if not trabajadores:\n",
        "        print(\"No se puede generar un archivo, la lista de trabajadores está vacía.\")\n",
        "        return\n",
        "\n",
        "    nombre_archivo = input(\"Ingresa el nombre del archivo a generar: \")\n",
        "    archivo = f\"{ruta}/{nombre_archivo}\"\n",
        "\n",
        "    try:\n",
        "        if extension == 'a':\n",
        "            archivo = f\"{archivo}.xlsx\"\n",
        "            df = pd.DataFrame.from_dict(trabajadores, orient='index')\n",
        "            df.to_excel(archivo, index_label='ID')\n",
        "            print(f\"Archivo Excel '{archivo}' generado exitosamente.\")\n",
        "        elif extension == 'b':\n",
        "            archivo = f\"{archivo}.txt\"\n",
        "            with open(archivo, 'w') as f:\n",
        "                for id, datos in trabajadores.items():\n",
        "                    f.write(f\"ID: {id}, Nombre: {datos['Nombre']}, Apellido Paterno: {datos['Apellido Paterno']}, \"\n",
        "                            f\"Apellido Materno: {datos.get('Apellido Materno', '')}, Puesto: {datos.get('Puesto', '')}, \"\n",
        "                            f\"Sexo: {datos.get('Sexo', '')}\\n\")\n",
        "            print(f\"Archivo de texto '{archivo}' generado exitosamente.\")\n",
        "        elif extension == 'c':\n",
        "            archivo = f\"{archivo}.csv\"\n",
        "            df = pd.DataFrame.from_dict(trabajadores, orient='index')\n",
        "            df.to_csv(archivo, index_label='ID')\n",
        "            print(f\"Archivo CSV '{archivo}' generado exitosamente.\")\n",
        "        elif extension == 'd':\n",
        "            archivo = f\"{archivo}.md\"\n",
        "            with open(archivo, 'w') as f:\n",
        "                f.write(\"| ID | Nombre | Apellido Paterno | Apellido Materno | Puesto | Sexo |\\n\")\n",
        "                f.write(\"| --- | ------ | ------------------ | ----------------- | ------ | ---- |\\n\")\n",
        "                for id, datos in trabajadores.items():\n",
        "                    f.write(f\"| {id} | {datos['Nombre']} | {datos['Apellido Paterno']} | \"\n",
        "                            f\"{datos.get('Apellido Materno', '')} | {datos.get('Puesto', '')} | {datos.get('Sexo', '')} |\\n\")\n",
        "            print(f\"Archivo Markdown '{archivo}' generado exitosamente.\")\n",
        "    except Exception as e:\n",
        "        print(f\"Error al generar el archivo: {e}\")"
      ],
      "metadata": {
        "id": "OBK2cFXZL6HV"
      },
      "execution_count": 65,
      "outputs": []
    },
    {
      "cell_type": "code",
      "source": [
        "def cargar_archivo(extension):\n",
        "    nombre_archivo = input(\"Ingresa el nombre del archivo a cargar: \")\n",
        "    archivo = f\"{ruta}/{nombre_archivo}\"\n",
        "\n",
        "    try:\n",
        "        if extension == 'a':\n",
        "            archivo = f\"{archivo}.xlsx\"\n",
        "            df = pd.read_excel(archivo, index_col='ID')\n",
        "            trabajadores.update(df.to_dict(orient='index'))\n",
        "            print(f\"Archivo Excel '{archivo}' cargado exitosamente.\")\n",
        "        elif extension == 'b':\n",
        "            archivo = f\"{archivo}.txt\"\n",
        "            with open(archivo, 'r') as f:\n",
        "                for linea in f:\n",
        "                    campos = linea.strip().split(', ')\n",
        "                    id = int(campos[0].split(': ')[1])\n",
        "                    datos_trabajador = {}\n",
        "                    for campo in campos[1:]:\n",
        "                        key, value = campo.split(': ')\n",
        "                        datos_trabajador[key] = value\n",
        "                    trabajadores[id] = datos_trabajador\n",
        "                print(f\"Archivo de texto '{archivo}' cargado exitosamente.\")\n",
        "        elif extension == 'c':\n",
        "            archivo = f\"{archivo}.csv\"\n",
        "            df = pd.read_csv(archivo, index_col='ID')\n",
        "            trabajadores.update(df.to_dict(orient='index'))\n",
        "            print(f\"Archivo CSV '{archivo}' cargado exitosamente.\")\n",
        "        elif extension == 'd':\n",
        "            archivo = f\"{archivo}.md\"\n",
        "            with open(archivo, 'r') as f:\n",
        "                lineas = f.readlines()\n",
        "                header = [campo.strip() for campo in lineas[0].strip().split('|')[1:-1]]\n",
        "                for linea in lineas[2:]:\n",
        "                    campos = [campo.strip() for campo in linea.strip().split('|')[1:-1]]\n",
        "                    datos_trabajador = dict(zip(header, campos))\n",
        "                    id = int(datos_trabajador['ID'])\n",
        "                    trabajadores[id] = datos_trabajador\n",
        "                print(f\"Archivo Markdown '{archivo}' cargado exitosamente.\")\n",
        "    except Exception as e:\n",
        "        print(f\"Error al cargar el archivo: {e}\")"
      ],
      "metadata": {
        "id": "--zvz94YNbPR"
      },
      "execution_count": 66,
      "outputs": []
    },
    {
      "cell_type": "code",
      "source": [
        "def imprimir_archivo(extension):\n",
        "    if not trabajadores:\n",
        "        print(\"No se puede imprimir un archivo, la lista de trabajadores está vacía.\")\n",
        "        return\n",
        "\n",
        "    nombre_archivo = input(\"Ingresa el nombre del archivo a imprimir: \")\n",
        "    archivo = f\"{ruta}/{nombre_archivo}\"\n",
        "\n",
        "    try:\n",
        "        if extension == 'a':\n",
        "            archivo = f\"{archivo}.xlsx\"\n",
        "            df = pd.DataFrame.from_dict(trabajadores, orient='index')\n",
        "            df.to_excel(archivo, index_label='ID')\n",
        "            print(f\"Archivo Excel '{archivo}' impreso exitosamente.\")\n",
        "        elif extension == 'b':\n",
        "            archivo = f\"{archivo}.txt\"\n",
        "            with open(archivo, 'w') as f:\n",
        "                for id, datos in trabajadores.items():\n",
        "                    f.write(f\"ID: {id}, Nombre: {datos['Nombre']}, Apellido Paterno: {datos['Apellido Paterno']}, \"\n",
        "                            f\"Apellido Materno: {datos.get('Apellido Materno', '')}, Puesto: {datos.get('Puesto', '')}, \"\n",
        "                            f\"Sexo: {datos.get('Sexo', '')}\\n\")\n",
        "            print(f\"Archivo de texto '{archivo}' impreso exitosamente.\")\n",
        "        elif extension == 'c':\n",
        "            archivo = f\"{archivo}.csv\"\n",
        "            df = pd.DataFrame.from_dict(trabajadores, orient='index')\n",
        "            df.to_csv(archivo, index_label='ID')\n",
        "            print(f\"Archivo CSV '{archivo}' impreso exitosamente.\")\n",
        "        elif extension == 'd':\n",
        "            archivo = f\"{archivo}.md\"\n",
        "            with open(archivo, 'w') as f:\n",
        "                f.write(\"| ID | Nombre | Apellido Paterno | Apellido Materno | Puesto | Sexo |\\n\")\n",
        "                f.write(\"| --- | ------ | ------------------ | ----------------- | ------ | ---- |\\n\")\n",
        "                for id, datos in trabajadores.items():\n",
        "                    f.write(f\"| {id} | {datos['Nombre']} | {datos['Apellido Paterno']} | \"\n",
        "                            f\"{datos.get('Apellido Materno', '')} | {datos.get('Puesto', '')} | {datos.get('Sexo', '')} |\\n\")\n",
        "            print(f\"Archivo Markdown '{archivo}' impreso exitosamente.\")\n",
        "    except Exception as e:\n",
        "        print(f\"Error al imprimir el archivo: {e}\")"
      ],
      "metadata": {
        "id": "TW9bexWlNe2N"
      },
      "execution_count": 67,
      "outputs": []
    },
    {
      "cell_type": "code",
      "source": [
        "def borrar_toda_la_lista():\n",
        "    trabajadores.clear()\n",
        "    print(\"Lista de trabajadores borrada exitosamente.\")"
      ],
      "metadata": {
        "id": "Pnhqq6GFNmGn"
      },
      "execution_count": 68,
      "outputs": []
    },
    {
      "cell_type": "code",
      "source": [
        "def main():\n",
        "    while True:\n",
        "        clear_output()\n",
        "        print(\"\\nMENU\")\n",
        "        print(\"1.- Agregar (automático 10)\")\n",
        "        print(\"2.- Eliminar {ID}\")\n",
        "        print(\"3.- Imprimir lista (tabla)\")\n",
        "        print(\"4.- Buscar {ID}\")\n",
        "        print(\"5.- Buscar {appat} todas las coincidencias\")\n",
        "        print(\"6.- Ordenar {ID}\")\n",
        "        print(\"7.- Generar archivo {ID} (preguntar nombre del archivo)\")\n",
        "        print(\"   a) Excel\")\n",
        "        print(\"   b) Texto\")\n",
        "        print(\"   c) CSV\")\n",
        "        print(\"   d) Markdown\")\n",
        "        print(\"8.- Cargar archivo {ID}\")\n",
        "        print(\"9.- Imprimir archivo {ID}\")\n",
        "        print(\"10.- Borrar toda la lista {ID}\")\n",
        "        print(\"0.- SALIR\")\n",
        "\n",
        "        opcion = input(\"Selecciona una opción: \")\n",
        "\n",
        "        if opcion == '1':\n",
        "            clear_output()\n",
        "            agregar_trabajadores_automatico()\n",
        "            input(\"Presione una tecla para continuar...\")\n",
        "        elif opcion == '2':\n",
        "            clear_output()\n",
        "            id = input(\"Ingresa el ID del trabajador a eliminar: \")\n",
        "            if vali_num(id):\n",
        "                id = int(id)\n",
        "                eliminar_trabajador(id)\n",
        "                input(\"Presione una tecla para continuar...\")\n",
        "            else:\n",
        "                print(\"ID no válido. Por favor, ingresa un número entero.\")\n",
        "                input(\"Presione una tecla para continuar...\")\n",
        "        elif opcion == '3':\n",
        "            clear_output()\n",
        "            imprimir_lista()\n",
        "            input(\"Presione una tecla para continuar...\")\n",
        "        elif opcion == '4':\n",
        "            clear_output()\n",
        "            id = input(\"Ingresa el ID del trabajador a buscar: \")\n",
        "            if vali_num(id):\n",
        "                id = int(id)\n",
        "                buscar_por_id(id)\n",
        "                input(\"Presione una tecla para continuar...\")\n",
        "            else:\n",
        "                print(\"ID no válido. Por favor, ingresa un número entero.\")\n",
        "                input(\"Presione una tecla para continuar...\")\n",
        "        elif opcion == '5':\n",
        "            clear_output()\n",
        "            appat = input(\"Ingresa el Apellido Paterno a buscar: \")\n",
        "            buscar_por_appat(appat)\n",
        "            input(\"Presione una tecla para continuar...\")\n",
        "        elif opcion == '6':\n",
        "            clear_output()\n",
        "            ordenar_lista()\n",
        "            input(\"Presione una tecla para continuar...\")\n",
        "        elif opcion == '7':\n",
        "            clear_output()\n",
        "            extension = input(\"Selecciona la extensión del archivo (a, b, c, d): \").lower()\n",
        "            if extension in ['a', 'b', 'c', 'd']:\n",
        "                generar_archivo(extension)\n",
        "            else:\n",
        "                print(\"Extensión no válida. Por favor, selecciona 'a', 'b', 'c' o 'd'.\")\n",
        "            input(\"Presione una tecla para continuar...\")\n",
        "        elif opcion == '8':\n",
        "            clear_output()\n",
        "            extension = input(\"Selecciona la extensión del archivo a cargar (a, b, c, d): \").lower()\n",
        "            if extension in ['a', 'b', 'c', 'd']:\n",
        "                cargar_archivo(extension)\n",
        "            else:\n",
        "                print(\"Extensión no válida. Por favor, selecciona 'a', 'b', 'c' o 'd'.\")\n",
        "            input(\"Presione una tecla para continuar...\")\n",
        "        elif opcion == '9':\n",
        "            clear_output()\n",
        "            extension = input(\"Selecciona la extensión del archivo a imprimir (a, b, c, d): \").lower()\n",
        "            if extension in ['a', 'b', 'c', 'd']:\n",
        "                imprimir_archivo(extension)\n",
        "            else:\n",
        "                print(\"Extensión no válida. Por favor, selecciona 'a', 'b', 'c' o 'd'.\")\n",
        "            input(\"Presione una tecla para continuar...\")\n",
        "        elif opcion == '10':\n",
        "            clear_output()\n",
        "            borrar_toda_la_lista()\n",
        "            input(\"Presione una tecla para continuar...\")\n",
        "        elif opcion == '0':\n",
        "            clear_output()\n",
        "            break\n",
        "        else:\n",
        "            print(\"Opción no válida. Por favor, selecciona una opción del menú.\")"
      ],
      "metadata": {
        "id": "GevpsQXXNqwz"
      },
      "execution_count": 69,
      "outputs": []
    },
    {
      "cell_type": "code",
      "source": [
        "if __name__ == '__main__':\n",
        "    main()"
      ],
      "metadata": {
        "id": "L127DoP2N0ap"
      },
      "execution_count": 73,
      "outputs": []
    }
  ]
}