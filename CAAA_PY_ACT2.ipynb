{
  "nbformat": 4,
  "nbformat_minor": 0,
  "metadata": {
    "colab": {
      "provenance": [],
      "authorship_tag": "ABX9TyOCH38+hN9VRGPHR0mU9trj",
      "include_colab_link": true
    },
    "kernelspec": {
      "name": "python3",
      "display_name": "Python 3"
    },
    "language_info": {
      "name": "python"
    }
  },
  "cells": [
    {
      "cell_type": "markdown",
      "metadata": {
        "id": "view-in-github",
        "colab_type": "text"
      },
      "source": [
        "<a href=\"https://colab.research.google.com/github/CarlosAlvarez777/pythonHOY/blob/main/CAAA_PY_ACT2.ipynb\" target=\"_parent\"><img src=\"https://colab.research.google.com/assets/colab-badge.svg\" alt=\"Open In Colab\"/></a>"
      ]
    },
    {
      "cell_type": "markdown",
      "source": [
        "1.- Programa en Python que lea 2 números enteros, usar una condición y analizar los dos números y desplegar cual de los números es el mayor."
      ],
      "metadata": {
        "id": "OyN9zNmo0Oxf"
      }
    },
    {
      "cell_type": "code",
      "source": [
        "print(\"Inserte dos números enteros: \")\n",
        "num1 = int(input(\"numero 1: \"))\n",
        "num2 = int(input(\"numero 2: \"))\n",
        "if num1 > num2:\n",
        "  print(f\"el numero mayor es {num1}\")\n",
        "if num2 > num1:\n",
        "  print(f\"el numero mayor es {num2}\")"
      ],
      "metadata": {
        "colab": {
          "base_uri": "https://localhost:8080/"
        },
        "id": "qiTgBd6U0XiX",
        "outputId": "30035ca2-354f-41d1-99b4-6c16f30a0649"
      },
      "execution_count": null,
      "outputs": [
        {
          "output_type": "stream",
          "name": "stdout",
          "text": [
            "dime dos números enteros: \n",
            "numero 1: 5\n",
            "numero 2: 7\n",
            "el numero mayor es 7\n"
          ]
        }
      ]
    },
    {
      "cell_type": "markdown",
      "source": [
        "2.- Programa en PythonAlgoritmo que lea 4 calificaciones de un alumno, calcular y desplegar el promedio acompañado de la leyenda \"APROBADO\" o \"REPROBADO\""
      ],
      "metadata": {
        "id": "F6hqh4AJ0p_v"
      }
    },
    {
      "cell_type": "code",
      "source": [
        "calif1 = int(input(\"Inserte la calificacion 1: \"))\n",
        "calif2 = int(input(\"Inserte la calificacion 2: \"))\n",
        "calif3 = int(input(\"Inserte la calificacion 3: \"))\n",
        "calif4 = int(input(\"Inserte la calificacion 4: \"))\n",
        "promedio = (calif1 + calif2 + calif3 + calif4) / 4\n",
        "print(f\"Su promedio es: {promedio}\")\n",
        "if promedio >= 60:\n",
        "  print(\"APROBADO\")\n",
        "if promedio < 60:\n",
        "  print(\"REPROBADO\")"
      ],
      "metadata": {
        "colab": {
          "base_uri": "https://localhost:8080/"
        },
        "id": "ykHp1-Gl0vDf",
        "outputId": "9a664d92-5957-4664-f3fd-da5ec0006af1"
      },
      "execution_count": null,
      "outputs": [
        {
          "output_type": "stream",
          "name": "stdout",
          "text": [
            "Inserte la calificacion 1: 90\n",
            "Inserte la calificacion 2: 80\n",
            "Inserte la calificacion 3: 96\n",
            "Inserte la calificacion 4: 100\n",
            "tu promedio es: 91.5\n",
            "APROBADO\n"
          ]
        }
      ]
    },
    {
      "cell_type": "markdown",
      "source": [
        "3.- Programa en PythonAlgoritmo que a través de opciones (1.- HOMBRE 2.- MUJER ) preguntar al usuario cual es su sexo y desplegar la leyenda “HOMBRE ”, “MUJER”"
      ],
      "metadata": {
        "id": "9oO1eNFu2SWv"
      }
    },
    {
      "cell_type": "code",
      "source": [
        "print(\"Ingrese su sexo\")\n",
        "print(\"1.-Hombre 2.-Mujer\")\n",
        "opcion = input(\"Elija entre (1 o 2): \")\n",
        "if opcion == \"1\":\n",
        "  print(\"HOMBRE\")\n",
        "if opcion == \"2\":\n",
        "  print(\"MUJER\")"
      ],
      "metadata": {
        "colab": {
          "base_uri": "https://localhost:8080/"
        },
        "id": "T8IMPuQg2aOX",
        "outputId": "8c794937-be28-4ddf-f102-92ad783da6dd"
      },
      "execution_count": null,
      "outputs": [
        {
          "output_type": "stream",
          "name": "stdout",
          "text": [
            "Ingrese su sexo\n",
            "1.-Hombre 2.-Mujer\n",
            "Elija entre (1 o 2): 1\n",
            "HOMBRE\n"
          ]
        }
      ]
    },
    {
      "cell_type": "markdown",
      "source": [
        "4.- Programa en Python que lea un número entero, y desplegar si el número es “PAR” o “IMPAR”"
      ],
      "metadata": {
        "id": "GMJ0y-573G3n"
      }
    },
    {
      "cell_type": "code",
      "source": [
        "num = float(input(\"Ingrese un número entero: \"))\n",
        "residuo = num % 2\n",
        "if residuo == 0:\n",
        "  print(\"es PAR\")\n",
        "if residuo > 0:\n",
        "  print(\"es IMPAR\")"
      ],
      "metadata": {
        "colab": {
          "base_uri": "https://localhost:8080/"
        },
        "id": "Y6uJA1E53KCQ",
        "outputId": "edd34ba9-7669-4347-bac2-b1c336731c9b"
      },
      "execution_count": null,
      "outputs": [
        {
          "output_type": "stream",
          "name": "stdout",
          "text": [
            "Ingrese un número entero: 7\n",
            "es IMPAR\n"
          ]
        }
      ]
    },
    {
      "cell_type": "markdown",
      "source": [
        "5.- Programa en Python que lea 2 números enteros, usar una condición y analizar los dos números y desplegar cual de los números es el mayor."
      ],
      "metadata": {
        "id": "7R35tpWu3nxo"
      }
    },
    {
      "cell_type": "code",
      "source": [
        "numero1 = int(input(\"Inserte un número entero: \"))\n",
        "numero2 = int(input(\"Inserte otro número entero: \"))\n",
        "if numero1 > numero2:\n",
        "  print(f\"el número mayor es: {numero1}\")\n",
        "else:\n",
        "  print(f\"el número mayor es: {numero2}\")"
      ],
      "metadata": {
        "colab": {
          "base_uri": "https://localhost:8080/"
        },
        "id": "4n18YWyp6PaR",
        "outputId": "90af18a3-ed81-42b6-bf83-7aa8fc67b812"
      },
      "execution_count": null,
      "outputs": [
        {
          "output_type": "stream",
          "name": "stdout",
          "text": [
            "Inserte un número entero: 89\n",
            "Inserte otro número entero: 777\n",
            "el número mayor es: 777\n"
          ]
        }
      ]
    },
    {
      "cell_type": "markdown",
      "source": [
        "6.- Programa en Python que lea 4 calificaciones de un alumno, calcular y desplegar el promedio acompañado de la leyenda APROBADO o REPROBADO."
      ],
      "metadata": {
        "id": "O1lyX8x-6rzH"
      }
    },
    {
      "cell_type": "code",
      "source": [
        "calif1 = int(input(\"Inserte la calificacion 1: \"))\n",
        "calif2 = int(input(\"Inserte la calificacion 2: \"))\n",
        "calif3 = int(input(\"Inserte la calificacion 3: \"))\n",
        "calif4 = int(input(\"Inserte la calificacion 4: \"))\n",
        "promedio = (calif1 + calif2 + calif3 + calif4) / 4\n",
        "print(f\"tu promedio es: {promedio}\")\n",
        "if promedio >= 60:\n",
        "  print(\"APROBADO\")\n",
        "else:\n",
        "  print(\"REPROBADO\")"
      ],
      "metadata": {
        "colab": {
          "base_uri": "https://localhost:8080/"
        },
        "id": "YKIF_8bp7LVI",
        "outputId": "25985c64-6ed5-4a5b-f454-0681775a648c"
      },
      "execution_count": null,
      "outputs": [
        {
          "output_type": "stream",
          "name": "stdout",
          "text": [
            "Inserte la calificacion 1: 90\n",
            "Inserte la calificacion 2: 80\n",
            "Inserte la calificacion 3: 96\n",
            "Inserte la calificacion 4: 100\n",
            "tu promedio es: 91.5\n",
            "APROBADO\n"
          ]
        }
      ]
    },
    {
      "cell_type": "markdown",
      "source": [
        "7.- Programa en Python que a través de opciones (1.- HOMBRE 2.- MUJER ) preguntar al usuario cual es su sexo y desplegar la leyenda “HOMBRE ”, “MUJER”"
      ],
      "metadata": {
        "id": "Y4IMA2eo7t7Q"
      }
    },
    {
      "cell_type": "code",
      "source": [
        "print(\"Ingrese su sexo\")\n",
        "print(\"1.-Hombre 2.-Mujer\")\n",
        "opcion = input(\"Elija entre (1 o 2): \")\n",
        "if opcion == \"1\":\n",
        "  print(\"usted es HOMBRE\")\n",
        "else:\n",
        "  print(\"usted es MUJER\")"
      ],
      "metadata": {
        "colab": {
          "base_uri": "https://localhost:8080/"
        },
        "id": "L3j932Og7-R4",
        "outputId": "9b4cfa96-d72a-4835-bca5-da80ca4e6d5d"
      },
      "execution_count": null,
      "outputs": [
        {
          "output_type": "stream",
          "name": "stdout",
          "text": [
            "Ingrese su sexo\n",
            "1.-Hombre 2.-Mujer\n",
            "Elija entre (1 o 2): 1\n",
            "usted es HOMBRE\n"
          ]
        }
      ]
    },
    {
      "cell_type": "markdown",
      "source": [
        "8.- Programa en Python que lea un número entero, y desplegar si el número es “PAR” o “IMPAR”"
      ],
      "metadata": {
        "id": "vZh7yxtc8RFA"
      }
    },
    {
      "cell_type": "code",
      "source": [
        "num = float(input(\"Ingrese un número entero: \"))\n",
        "residuo = num % 2\n",
        "if residuo == 0:\n",
        "  print(\"es PAR\")\n",
        "else:\n",
        "  print(\"es IMPAR\")"
      ],
      "metadata": {
        "colab": {
          "base_uri": "https://localhost:8080/"
        },
        "id": "HpF_tL6F8V9A",
        "outputId": "f2f56659-29c3-4671-ed32-9d20b4d2f7c7"
      },
      "execution_count": null,
      "outputs": [
        {
          "output_type": "stream",
          "name": "stdout",
          "text": [
            "Ingrese un número entero: 7\n",
            "es IMPAR\n"
          ]
        }
      ]
    }
  ]
}