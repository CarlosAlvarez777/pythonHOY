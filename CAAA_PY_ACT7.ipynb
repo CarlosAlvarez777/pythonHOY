{
  "nbformat": 4,
  "nbformat_minor": 0,
  "metadata": {
    "colab": {
      "provenance": [],
      "authorship_tag": "ABX9TyP0ta3K6HflVMMrkt11V+75",
      "include_colab_link": true
    },
    "kernelspec": {
      "name": "python3",
      "display_name": "Python 3"
    },
    "language_info": {
      "name": "python"
    }
  },
  "cells": [
    {
      "cell_type": "markdown",
      "metadata": {
        "id": "view-in-github",
        "colab_type": "text"
      },
      "source": [
        "<a href=\"https://colab.research.google.com/github/CarlosAlvarez777/pythonHOY/blob/CAAA_PY_ACT7/CAAA_PY_ACT7.ipynb\" target=\"_parent\"><img src=\"https://colab.research.google.com/assets/colab-badge.svg\" alt=\"Open In Colab\"/></a>"
      ]
    },
    {
      "cell_type": "code",
      "source": [
        "import random\n",
        "from random import randint"
      ],
      "metadata": {
        "id": "C6CebrcDNGuE"
      },
      "execution_count": 1,
      "outputs": []
    },
    {
      "cell_type": "code",
      "source": [
        "def vali_num(ri=0,rf=100,msge=\"Inserte un numero: \",error1=\"Error: Rango invalido\",error2=\"Error: valores invalidos\"):\n",
        "    while True:\n",
        "        try:\n",
        "            n = int(input(f\"{msge}\"))\n",
        "        except:\n",
        "            print (error2)\n",
        "            continue\n",
        "        if n < ri or n > rf:\n",
        "            print (error1)\n",
        "            continue\n",
        "        else:\n",
        "            break\n",
        "    return n"
      ],
      "metadata": {
        "id": "8UhuRl4QNuhh"
      },
      "execution_count": 2,
      "outputs": []
    },
    {
      "cell_type": "markdown",
      "source": [
        "1.- Función que utilice una lista con los nombres de tus mascotas, o artistas favoritos, (minimo 5, maximo 10) imprimir las cadenas y la cantidad de caracteres de cada cadena.\n",
        "\n",
        "EJEMPLO SALIDA:\n",
        "\n",
        "[0]SCARLETT --> 8 CARACTERES\n",
        "\n",
        "[1]GATINA --> 6 CARACTERES\n",
        "\n",
        "[2]PELUSA --> 6 CARACTERES\n",
        "\n",
        "[3]PELUSINA --> 8 CARACTERES\n",
        "\n",
        "[4]MILO --> 4 CARACTERES\n",
        "\n",
        "[5]KHALIFA --> 7 CARACTERES\n",
        "\n"
      ],
      "metadata": {
        "id": "pN-62FTnK-77"
      }
    },
    {
      "cell_type": "code",
      "execution_count": 3,
      "metadata": {
        "id": "OSkdoFgmKwcs",
        "colab": {
          "base_uri": "https://localhost:8080/"
        },
        "outputId": "01574a1e-3cfa-402f-c785-ec7ca74c14cc"
      },
      "outputs": [
        {
          "output_type": "stream",
          "name": "stdout",
          "text": [
            " [1]Anthony --> 7 Caracteres\n",
            " [2]Akiko --> 5 Caracteres\n",
            " [3]Ichiro --> 6 Caracteres\n",
            " [4]Shizuku --> 7 Caracteres\n",
            " [5]Ayame --> 5 Caracteres\n"
          ]
        }
      ],
      "source": [
        "def nombres(lista=[\"Anthony\",\"Akiko\",\"Ichiro\",\"Shizuku\",\"Ayame\"]):\n",
        "    i = 1\n",
        "    for cadena in lista:\n",
        "        print(f\" {[i]}{cadena} --> {len(cadena)} Caracteres\")\n",
        "        i=i+1\n",
        "nombres()"
      ]
    },
    {
      "cell_type": "markdown",
      "source": [
        "2.- Programa que utilice 2 funciones.\n",
        "\n",
        "*   Función que genere y regrese una lista con 10 números aleatorios entre el 30 y 50 (no repetidos).\n",
        "*   Función que reciba una lista , Imprimir la lista (Indice y Valor )\n",
        "\n",
        "Mandar llamar la función e imprimir toda la lista."
      ],
      "metadata": {
        "id": "tiZDzpQmQpk2"
      }
    },
    {
      "cell_type": "code",
      "source": [
        "def rand_lista(lista = [randint(30,50)]):\n",
        "    for i in range(10):\n",
        "        n = randint(30,50)\n",
        "        if n not in lista:\n",
        "            lista.append(n)\n",
        "    return lista\n",
        "\n",
        "def list_index():\n",
        "    lista2 = rand_lista()\n",
        "    for i in range(10):\n",
        "        print(f\"[{i}] --> [{lista2[i]}]\")"
      ],
      "metadata": {
        "id": "7ZL-OngHQot-"
      },
      "execution_count": 6,
      "outputs": []
    },
    {
      "cell_type": "code",
      "source": [
        "list_index()"
      ],
      "metadata": {
        "colab": {
          "base_uri": "https://localhost:8080/"
        },
        "id": "MtRzPRx_UGLX",
        "outputId": "ba3d185c-a19f-4e6d-a896-7c184c101b31"
      },
      "execution_count": 8,
      "outputs": [
        {
          "output_type": "stream",
          "name": "stdout",
          "text": [
            "[0] --> [30]\n",
            "[1] --> [36]\n",
            "[2] --> [34]\n",
            "[3] --> [46]\n",
            "[4] --> [37]\n",
            "[5] --> [50]\n",
            "[6] --> [47]\n",
            "[7] --> [41]\n",
            "[8] --> [49]\n",
            "[9] --> [33]\n"
          ]
        }
      ]
    },
    {
      "cell_type": "markdown",
      "source": [
        "3.- Escribe una función que reciba dos listas de números del mismo tamaño y calcule la suma de los elementos correspondientes de cada lista. (regresar una nueva lista) . Luego, muestra una lista con los resultados de cada suma. Nota: si las listas no son del mismo tamaño mandar msge y utilizar el tamaño de la lista mas pequeña)"
      ],
      "metadata": {
        "id": "pO0n3xe0Xvfy"
      }
    },
    {
      "cell_type": "code",
      "source": [
        "def suma_lista(lista1 = [76,10,7,5,1,717,62,20,4,17], lista2 = [1,5,15,30,45,60,75,90,105,120], lista3 = []):\n",
        "    for i in range(10):\n",
        "        suma = lista1[i] + lista2[i]\n",
        "        lista3.append(suma)\n",
        "    print(f\"La suma de las listas: {lista3}\")\n",
        "suma_lista()"
      ],
      "metadata": {
        "colab": {
          "base_uri": "https://localhost:8080/"
        },
        "id": "cCqgrtRKXzMK",
        "outputId": "5c159b33-eb91-4ebb-c165-3ca548085b48"
      },
      "execution_count": 9,
      "outputs": [
        {
          "output_type": "stream",
          "name": "stdout",
          "text": [
            "La suma de las listas: [77, 15, 22, 35, 46, 777, 137, 110, 109, 137]\n"
          ]
        }
      ]
    },
    {
      "cell_type": "markdown",
      "source": [
        "4.- Escribe una función llamada eliminar_duplicados que reciba una lista como parámetro y elimine los elementos duplicados. El resultado debe ser una nueva lista sin duplicados. Pide al usuario que ingrese una lista y luego llama a la función eliminar_duplicados para mostrar la lista sin duplicados. (Solo Numeros enteros, validar)"
      ],
      "metadata": {
        "id": "5L3S3-f8d9VN"
      }
    },
    {
      "cell_type": "code",
      "source": [
        "def eliminar_duplicados(lista = []):\n",
        "    lista_sin_duplicados = []\n",
        "    for elemento in lista:\n",
        "        if elemento not in lista_sin_duplicados:\n",
        "            lista_sin_duplicados.append(elemento)\n",
        "    return lista_sin_duplicados\n",
        "\n",
        "def obtener_lista():\n",
        "    while True:\n",
        "        entrada = input(\"Ingresa una lista de números separados por comas (por ejemplo, 1,2,3): \")\n",
        "        numeros = entrada.split(',')\n",
        "        numeros_validos = []\n",
        "        for numero in numeros:\n",
        "            try:\n",
        "                numero_validado = int(numero)\n",
        "                numeros_validos.append(numero_validado)\n",
        "            except ValueError:\n",
        "                print(f\"'{numero}' no es un número válido. Intenta de nuevo.\")\n",
        "                continue\n",
        "        return numeros_validos\n",
        "\n",
        "lista_ingresada = obtener_lista()\n",
        "resultado = eliminar_duplicados(lista_ingresada)\n",
        "print(\"Lista sin duplicados:\", resultado)"
      ],
      "metadata": {
        "id": "R7lp5qSgd88n",
        "colab": {
          "base_uri": "https://localhost:8080/"
        },
        "outputId": "fc6fcdcf-7e45-443a-b17b-cd597b55d210"
      },
      "execution_count": 25,
      "outputs": [
        {
          "output_type": "stream",
          "name": "stdout",
          "text": [
            "Ingresa una lista de números separados por comas (por ejemplo, 1,2,3): 77, 50, 77, 90, 12, 31, 17, 7\n",
            "Lista sin duplicados: [77, 50, 90, 12, 31, 17, 7]\n"
          ]
        }
      ]
    },
    {
      "cell_type": "markdown",
      "source": [
        "5.- Escribe una función que calcule la media y la mediana de una lista de números enteros.\n",
        "\n",
        "La media es la suma de todos los elementos y dividido entre la cantidad de elementos\n",
        "\n",
        "La mediana es el valor que queda en la mitad de la lista cuando se ordena de forma ascendente. Si la lista tiene un número par de elementos, la mediana se calcula como el promedio de los dos valores centrales. Puedes utilizar el método sort() para ordenar la lista y luego calcular la mediana según el tamaño de la lista."
      ],
      "metadata": {
        "id": "mgSs66oavb4c"
      }
    },
    {
      "cell_type": "code",
      "source": [
        "def calcular_media_y_mediana():\n",
        "    n = int(input(\"Ingrese la cantidad de elementos en la lista: \"))\n",
        "    lista = []\n",
        "\n",
        "    for i in range(n):\n",
        "        while True:\n",
        "            try:\n",
        "                elemento = int(input(f\"Ingrese el elemento {i + 1}: \"))\n",
        "                lista.append(elemento)\n",
        "                break\n",
        "            except ValueError:\n",
        "                print(\"Por favor, ingrese un número entero válido.\")\n",
        "\n",
        "    if len(lista) == 0:\n",
        "        return None, None\n",
        "\n",
        "    media = sum(lista) / len(lista)\n",
        "\n",
        "    lista.sort()\n",
        "\n",
        "    if len(lista) % 2 == 0:\n",
        "        medio1 = lista[len(lista) // 2 - 1]\n",
        "        medio2 = lista[len(lista) // 2]\n",
        "        mediana = (medio1 + medio2) / 2\n",
        "    else:\n",
        "        mediana = lista[len(lista) // 2]\n",
        "\n",
        "    return media, mediana\n",
        "\n",
        "media, mediana = calcular_media_y_mediana()\n",
        "\n",
        "if media is not None and mediana is not None:\n",
        "    print(f\"Media: {media}\")\n",
        "    print(f\"Mediana: {mediana}\")"
      ],
      "metadata": {
        "colab": {
          "base_uri": "https://localhost:8080/"
        },
        "id": "pmY6zk5m0WqD",
        "outputId": "ae78c8ff-8e2e-4200-b69c-2b340930a61d"
      },
      "execution_count": 27,
      "outputs": [
        {
          "output_type": "stream",
          "name": "stdout",
          "text": [
            "Ingrese la cantidad de elementos en la lista: 5\n",
            "Ingrese el elemento 1: 7\n",
            "Ingrese el elemento 2: 777\n",
            "Ingrese el elemento 3: 77\n",
            "Ingrese el elemento 4: 20\n",
            "Ingrese el elemento 5: 17\n",
            "Media: 179.6\n",
            "Mediana: 20\n"
          ]
        }
      ]
    }
  ]
}