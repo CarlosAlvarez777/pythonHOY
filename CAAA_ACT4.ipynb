{
  "nbformat": 4,
  "nbformat_minor": 0,
  "metadata": {
    "colab": {
      "provenance": [],
      "authorship_tag": "ABX9TyPLkCOq44x0qICw9+LIvflY",
      "include_colab_link": true
    },
    "kernelspec": {
      "name": "python3",
      "display_name": "Python 3"
    },
    "language_info": {
      "name": "python"
    }
  },
  "cells": [
    {
      "cell_type": "markdown",
      "metadata": {
        "id": "view-in-github",
        "colab_type": "text"
      },
      "source": [
        "<a href=\"https://colab.research.google.com/github/CarlosAlvarez777/pythonHOY/blob/main/CAAA_ACT4.ipynb\" target=\"_parent\"><img src=\"https://colab.research.google.com/assets/colab-badge.svg\" alt=\"Open In Colab\"/></a>"
      ]
    },
    {
      "cell_type": "markdown",
      "source": [
        "# **REALIZA LOS SIGUIENTES EJERCICIOS USANDO LA FORMA ADECUADA Y USANDO try Except NO DEBERA FALLAR EL PROGRAMA.**"
      ],
      "metadata": {
        "id": "1OLSizqVA3R9"
      }
    },
    {
      "cell_type": "markdown",
      "source": [
        "1.- Programa en python   que lea 3 calificaciones calcule el promedio del alumno y desplegar: \n",
        "\n",
        "Si prom < 30 Repetir \n",
        "\n",
        "Si prom >=30 y prom <60 extraordinario \n",
        "\n",
        "Si prom >=60 y prom <70 suficiente \n",
        "\n",
        "Si prom >=70 y prom <80 Regular \n",
        "\n",
        "Si prom >=80 y prom <90 bien \n",
        "\n",
        "Si prom >=90 y prom <98 muy bien \n",
        "\n",
        "Si prom >=98 y prom <=100 excelente \n",
        "\n",
        "Si prom >100 Error en promedio \n",
        "\n",
        "Realizar el algoritmo optimizado"
      ],
      "metadata": {
        "id": "7ick6JynBEGj"
      }
    },
    {
      "cell_type": "code",
      "source": [
        "try:\n",
        "  c1 = float(input(\"Inserte su calificacion: \"))\n",
        "  c2 = float(input(\"Inserte su calificacion: \"))\n",
        "  c3 = float(input(\"Inserte su calificacion: \"))\n",
        "  prom = (c1 + c2 + c3) / 3\n",
        "  if prom < 80:\n",
        "    if prom < 60:\n",
        "      if prom < 30:\n",
        "       print (\"Repetir\")\n",
        "      else:\n",
        "       print (\"Extraordinario\")\n",
        "    else:\n",
        "      if prom < 70:\n",
        "        print (\"Suficiente\")\n",
        "      else:\n",
        "        print (\"Regular\")\n",
        "  else:\n",
        "    if prom < 98:\n",
        "      if prom < 90:\n",
        "        print (\"Bien\")\n",
        "      else:\n",
        "        print (\"Muy bien\")\n",
        "    else:\n",
        "      if prom > 100:\n",
        "        print (\"Error\")\n",
        "      else:\n",
        "        print (\"Excelente\")\n",
        "except:\n",
        "  print (\"Que parte de calificacion no entendiste\")"
      ],
      "metadata": {
        "colab": {
          "base_uri": "https://localhost:8080/"
        },
        "id": "bcSa5N9kBIWY",
        "outputId": "5bb4dc79-2b2b-4ed8-bff8-7450b5e27e1e"
      },
      "execution_count": null,
      "outputs": [
        {
          "output_type": "stream",
          "name": "stdout",
          "text": [
            "Inserte su calificacion: 90\n",
            "Inserte su calificacion: 90\n",
            "Inserte su calificacion: 90\n",
            "Muy bien\n"
          ]
        }
      ]
    },
    {
      "cell_type": "markdown",
      "source": [
        "2.- Programa en Python que sirva para calcular el salario semanal de un trabajador donde se obtiene como dato de entrada las horas semanales trabajadas, el salario por hora. \n",
        "\n",
        "El programa deberá calcular el salario normal, salario extra y salario total, considerando lo siguiente: \n",
        "\n",
        "Jornada Normal de 40 horas. \n",
        "El salario normal se considera las horas trabajadas menores o igual a la jornada normal\n",
        "Salario extra se considera las horas trabajadas mayores a la jornada normal y se pagan dobles las primeras 9 y triples a partir de la décima hora extra \n",
        "\n",
        "\n",
        "Nota: Desplegar todos los datos (Salario x hora, Horas Trabajadas, Salario normal, Salario extra y Salario Total)"
      ],
      "metadata": {
        "id": "uw6c4p3eFjgE"
      }
    },
    {
      "cell_type": "code",
      "source": [
        "try:\n",
        "  horas = int(input(\"Ingrese las horas semanales trabajadas: \"))\n",
        "  sh = float(input(\"Ingrese el salario por hora: \"))\n",
        "  jn=40\n",
        "  if horas > jn:\n",
        "    if horas > jn + 9:\n",
        "      sn = horas * sh\n",
        "      se = sh * 3\n",
        "      st = sn + se\n",
        "    else:\n",
        "      sn = horas * sh\n",
        "      se = sh * 2\n",
        "      st = sn + se\n",
        "  else:\n",
        "    sn = horas*sh\n",
        "    st = sn\n",
        "    se = 0\n",
        "  print(\"Salario por hora: \", sh)\n",
        "  print(\"Horas trabajadas: \", horas)\n",
        "  print(\"Salario normal: \", sn)\n",
        "  print(\"Salario extra: \", se)\n",
        "  print(\"Salario total: \", st)\n",
        "except:\n",
        "  print (\"Error: Valores invalidos\")"
      ],
      "metadata": {
        "colab": {
          "base_uri": "https://localhost:8080/"
        },
        "id": "bB8jCs64Fn_0",
        "outputId": "ab0b321c-1710-4350-8e05-7e6ac10be03f"
      },
      "execution_count": null,
      "outputs": [
        {
          "output_type": "stream",
          "name": "stdout",
          "text": [
            "Ingrese las horas semanales trabajadas: 40\n",
            "Ingrese el salario por hora: 300\n",
            "Salario por hora:  300.0\n",
            "Horas trabajadas:  40\n",
            "Salario normal:  12000.0\n",
            "Salario extra:  0\n",
            "Salario total:  12000.0\n"
          ]
        }
      ]
    },
    {
      "cell_type": "markdown",
      "source": [
        "3.- Algoritmo que sirva para calcular el Total a pagar por consumo de agua, donde el dato de entrada son los M3 de agua consumidos, Tomar en cuenta que se cobra escalonada de la Siguiente manera: \n",
        "\n",
        "Rango 1: 0 a 4 M^3 $50 x facturación sin importar cuánto consumió en este rango \n",
        "\n",
        "Rango 2: 5 a 15 M^3 $8.00 x M3 \n",
        "\n",
        "Rango 3: 16 a 50 M^3 $10.00 x M3 \n",
        "\n",
        "Rango 4: 51 M^3 en adelante $11.00 x M3 \n",
        "\n",
        "Nota: Desplegar SubTotal, Iva(16%), y Total a pagar."
      ],
      "metadata": {
        "id": "dyClDpiyIpjE"
      }
    },
    {
      "cell_type": "code",
      "source": [
        "try:\n",
        "  mc = float(input(\"Inserte los metros cubicos de agua consumidos: \"))\n",
        "  if mc < 16:\n",
        "    if mc < 5:\n",
        "      print (\"Consumo rango 1\")\n",
        "      subtotal = 50\n",
        "    else:\n",
        "      print (\"Consumo rango 2\")\n",
        "      subtotal = mc * 8\n",
        "  else:\n",
        "    if mc <= 50:\n",
        "      print (\"Consumo rango 3\")\n",
        "      subtotal = mc * 10\n",
        "    else:\n",
        "      print (\"Consumo rango 4\")\n",
        "      subtotal = mc * 11\n",
        "  iva = subtotal * 0.16\n",
        "  total = subtotal + iva\n",
        "  print (\"Subtotal: \", subtotal)\n",
        "  print (\"IVA:\", iva)\n",
        "  print (\"Total\", total)\n",
        "except:\n",
        "  print (\"Error: Valores invalidos\")"
      ],
      "metadata": {
        "colab": {
          "base_uri": "https://localhost:8080/"
        },
        "id": "fG1_GdttIxZt",
        "outputId": "8e345216-0e1f-45bd-a948-d611b6082b6d"
      },
      "execution_count": null,
      "outputs": [
        {
          "output_type": "stream",
          "name": "stdout",
          "text": [
            "Inserte los metros cubicos de agua consumidos: 6\n",
            "Consumo rango 2\n",
            "Subtotal:  48.0\n",
            "IVA: 7.68\n",
            "Total 55.68\n"
          ]
        }
      ]
    },
    {
      "cell_type": "markdown",
      "source": [
        "4- En la materia de Metodología de la programación se aplican 5 exámenes, calcular el promedio final de la materia donde la calificación menor de los exámenes se anula y el promedio se calcula en base a 4 exámenes.\n",
        "\n",
        "Desplegar el promedio final. y cual es la mas baja que se elimino."
      ],
      "metadata": {
        "id": "mysV7BNDLGjz"
      }
    },
    {
      "cell_type": "code",
      "source": [
        "try:\n",
        "  c1 = float(input(\"Inserte la calificacion del examen: \"))\n",
        "  c2 = float(input(\"Inserte la calificacion del examen: \"))\n",
        "  c3 = float(input(\"Inserte la calificacion del examen: \"))\n",
        "  c4 = float(input(\"Inserte la calificacion del examen: \"))\n",
        "  c5 = float(input(\"Inserte la calificacion del examen: \"))\n",
        "  menor = min([c1, c2, c3, c4, c5])\n",
        "  print(\"Al ser menor se anula la calificacion \",menor)\n",
        "  prom = ((c1 + c2 + c3 + c4 + c5) - menor) /4\n",
        "  print (\"Promedio: \",prom)\n",
        "except:\n",
        "  print (\"Error: Valores invalidos\")"
      ],
      "metadata": {
        "colab": {
          "base_uri": "https://localhost:8080/"
        },
        "id": "zi57VwbwLZG8",
        "outputId": "5482d5c5-7ea6-46d6-ef7c-1f655b329bca"
      },
      "execution_count": null,
      "outputs": [
        {
          "output_type": "stream",
          "name": "stdout",
          "text": [
            "Inserte la calificacion del examen: 60\n",
            "Inserte la calificacion del examen: 70\n",
            "Inserte la calificacion del examen: 80\n",
            "Inserte la calificacion del examen: 90\n",
            "Inserte la calificacion del examen: 100\n",
            "Al ser menor se anula la calificacion  60.0\n",
            "Promedio:  85.0\n"
          ]
        }
      ]
    },
    {
      "cell_type": "markdown",
      "source": [
        "5.- Programa en Python que sirva para el juego del CHINCHAMPU (Piedra, Papel, Tijera) para 1 jugador y la computadora"
      ],
      "metadata": {
        "id": "572PytM9DcE8"
      }
    },
    {
      "cell_type": "code",
      "source": [
        "try:\n",
        "  import random\n",
        "  while True:\n",
        "    aleatorio = random.randrange(0,3)\n",
        "    eligepc = \"\"\n",
        "    print(\"1. Piedra\")\n",
        "    print(\"2. Papel\")\n",
        "    print(\"3. Tijera\")\n",
        "    opcion = int(input(\"Elige tu opcion: \"))\n",
        "    if opcion == 1:\n",
        "      eligeusuario = \"Piedra\"\n",
        "    elif opcion == 2:\n",
        "      eligeusuario = \"Papel\"\n",
        "    elif opcion == 3:\n",
        "      eligeusuario = \"Tijera\"\n",
        "    print(\"Elegiste: \", eligeusuario)\n",
        "    if aleatorio == 0:\n",
        "      eligepc = \"Piedra\"\n",
        "    elif aleatorio == 1:\n",
        "      eligepc = \"Papel\"\n",
        "    elif aleatorio == 2:\n",
        "      eligepc = \"Tijera\"\n",
        "    print(\"La maquina eligio: \", eligepc)\n",
        "    print(\". . .\")\n",
        "    if eligepc == \"Piedra\" and eligeusuario == \"Papel\":\n",
        "      print(\"Ganaste, papel envuelve piedra\")\n",
        "    elif eligepc == \"Papel\" and eligeusuario == \"Tijera\":\n",
        "      print(\"Ganaste, tijera corta papel\")\n",
        "    elif eligepc == \"Tijera\" and eligeusuario == \"Piedra\":\n",
        "      print(\"Ganaste, piedra rompe tijera\")\n",
        "    if eligepc == \"Papel\" and eligeusuario == \"Piedra\":\n",
        "      print(\"Perdiste, papel envuelve piedra\")\n",
        "    elif eligepc == \"Tijera\" and eligeusuario == \"Papel\":\n",
        "      print(\"Perdiste, tijera corta papel\")\n",
        "    elif eligepc == \"Piedra\" and eligeusuario == \"Tijera\":\n",
        "      print(\"Perdiste, piedra rompe tijera\")\n",
        "    elif eligepc == eligeusuario:\n",
        "      print(\"Empate\")\n",
        "    play_again = input(\"Quieres jugar de nuevo (Si/No): \")\n",
        "    if play_again.lower() != \"Si\":\n",
        "      print(\"Gracias por jugar\")\n",
        "      break\n",
        "except:\n",
        "  print (\"Error: Valores invalidos\")"
      ],
      "metadata": {
        "colab": {
          "base_uri": "https://localhost:8080/"
        },
        "id": "vFq5pAwwDecL",
        "outputId": "d86cfa2b-afd7-485d-9aff-8a7ed6fbc35a"
      },
      "execution_count": 12,
      "outputs": [
        {
          "output_type": "stream",
          "name": "stdout",
          "text": [
            "1. Piedra\n",
            "2. Papel\n",
            "3. Tijera\n",
            "Elige tu opcion: 1\n",
            "Elegiste:  Piedra\n",
            "La maquina eligio:  Tijera\n",
            ". . .\n",
            "Ganaste, piedra rompe tijera\n",
            "Quieres jugar de nuevo (Si/No): No\n",
            "Gracias por jugar\n"
          ]
        }
      ]
    },
    {
      "cell_type": "markdown",
      "source": [
        "6.- Programa en Python que lea 4 números enteros desplegar cuales el menor, cual es mayor"
      ],
      "metadata": {
        "id": "nAcqH6Qtazo7"
      }
    },
    {
      "cell_type": "code",
      "source": [
        "try:\n",
        "  n1 = int(input(\"Inserte un numero: \"))\n",
        "  n2 = int(input(\"Inserte un numero: \"))\n",
        "  n3 = int(input(\"Inserte un numero: \"))\n",
        "  n4 = int(input(\"Inserte un numero: \"))\n",
        "  menor = min([n1, n2, n3, n4])\n",
        "  mayor = max([n1, n2, n3, n4])\n",
        "  print(\"El numero menor es: \",menor)\n",
        "  print(\"El numero mayor es: \",mayor)\n",
        "except:\n",
        "  print (\"Error: Valores invalidos\")"
      ],
      "metadata": {
        "colab": {
          "base_uri": "https://localhost:8080/"
        },
        "id": "jjMvLyYQa-Oi",
        "outputId": "dbb98d3d-f5b3-4d2a-8e09-3c1ef565199c"
      },
      "execution_count": 14,
      "outputs": [
        {
          "output_type": "stream",
          "name": "stdout",
          "text": [
            "Inserte un numero: 6\n",
            "Inserte un numero: 4\n",
            "Inserte un numero: 7\n",
            "Inserte un numero: 9\n",
            "El numero menor es:  4\n",
            "El numero mayor es:  9\n"
          ]
        }
      ]
    },
    {
      "cell_type": "markdown",
      "source": [
        "7.- Programa en Python que sirva para calcular el área de un triangulo, los datos de entrada deben ser forzosamente de tipo real"
      ],
      "metadata": {
        "id": "zQTlSwd5c4Rl"
      }
    },
    {
      "cell_type": "code",
      "source": [
        "try:\n",
        "  print(\"Calcular el area de un triangulo\")\n",
        "  base = float(input(\"Inserte la base: \"))\n",
        "  altura = float(input(\"Inserte la altura: \"))\n",
        "  area = base * altura / 2\n",
        "  print(\"El area del triangulo es: \" + str (area))\n",
        "except:\n",
        "  print(\"Error: Valores invalidos\")"
      ],
      "metadata": {
        "colab": {
          "base_uri": "https://localhost:8080/"
        },
        "id": "pBNic5U-cEut",
        "outputId": "2e14a10d-9427-4f09-b8a5-e183fca342ca"
      },
      "execution_count": 16,
      "outputs": [
        {
          "output_type": "stream",
          "name": "stdout",
          "text": [
            "Calcular el area de un triangulo\n",
            "Inserte la base: 4\n",
            "Inserte la altura: 5\n",
            "El area del triangulo es: 10.0\n"
          ]
        }
      ]
    },
    {
      "cell_type": "markdown",
      "source": [
        "8.- Programa en Python que sirva para calcular el área de un circulo"
      ],
      "metadata": {
        "id": "Ikc257LVdCi2"
      }
    },
    {
      "cell_type": "code",
      "source": [
        "try:\n",
        "  pi = 3.14\n",
        "  radio = float(input(\"Inserte el radio en m: \"))\n",
        "  area = pi*radio**2\n",
        "  print(\"El area es:\", area)\n",
        "except:\n",
        "  print(\"Error: Valores invalidos\")"
      ],
      "metadata": {
        "colab": {
          "base_uri": "https://localhost:8080/"
        },
        "id": "SHhbMJE-dEmZ",
        "outputId": "4e43beed-70ad-4352-9e4f-70e2129574b8"
      },
      "execution_count": 17,
      "outputs": [
        {
          "output_type": "stream",
          "name": "stdout",
          "text": [
            "Inserte el radio en m: 2\n",
            "El area es: 12.56\n"
          ]
        }
      ]
    }
  ]
}