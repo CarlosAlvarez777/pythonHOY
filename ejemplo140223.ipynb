{
  "nbformat": 4,
  "nbformat_minor": 0,
  "metadata": {
    "colab": {
      "provenance": [],
      "authorship_tag": "ABX9TyM6qlPPUDBY0dNXsWWJVCnP",
      "include_colab_link": true
    },
    "kernelspec": {
      "name": "python3",
      "display_name": "Python 3"
    },
    "language_info": {
      "name": "python"
    }
  },
  "cells": [
    {
      "cell_type": "markdown",
      "metadata": {
        "id": "view-in-github",
        "colab_type": "text"
      },
      "source": [
        "<a href=\"https://colab.research.google.com/github/CarlosAlvarez777/pythonHOY/blob/main/ejemplo140223.ipynb\" target=\"_parent\"><img src=\"https://colab.research.google.com/assets/colab-badge.svg\" alt=\"Open In Colab\"/></a>"
      ]
    },
    {
      "cell_type": "code",
      "execution_count": 8,
      "metadata": {
        "colab": {
          "base_uri": "https://localhost:8080/"
        },
        "id": "vOnbabP01M2z",
        "outputId": "e73aa621-c47c-4b16-8344-8605704112e8"
      },
      "outputs": [
        {
          "output_type": "stream",
          "name": "stdout",
          "text": [
            "False\n",
            "True\n"
          ]
        },
        {
          "output_type": "execute_result",
          "data": {
            "text/plain": [
              "True"
            ]
          },
          "metadata": {},
          "execution_count": 8
        }
      ],
      "source": [
        "num1 = 20\n",
        "num2 = 40\n",
        "\n",
        "print (num1 > 50)\n",
        "print (num2 < 50)\n",
        "2+2/4*2-2*2\n",
        "\n",
        "num1 > num2 and num1 < 50\n",
        "num1 > num2 or num1 < 50\n",
        "not (num1 > num2 and num1 < 50)"
      ]
    },
    {
      "cell_type": "code",
      "source": [
        "num1 = 5\n",
        "num2 = 2\n",
        "\n",
        "print (\"MODULO = 5/2 =\", num1 % num2)\n",
        "print (\"resta = 5/2 =\", num1 - num2)\n",
        "print (\"division entera 5//2 =\", num1 // num2)\n",
        "print (\"5^2 = \", num1 ** num2)"
      ],
      "metadata": {
        "colab": {
          "base_uri": "https://localhost:8080/"
        },
        "id": "NluSJz1cADs8",
        "outputId": "0b707cb4-6140-4a76-85fc-51471eb1cfd2"
      },
      "execution_count": 4,
      "outputs": [
        {
          "output_type": "stream",
          "name": "stdout",
          "text": [
            "MODULO = 5/2 = 1\n",
            "resta = 5/2 = 3\n",
            "division entera 5//2 = 2\n",
            "5^2 =  25\n"
          ]
        }
      ]
    }
  ]
}