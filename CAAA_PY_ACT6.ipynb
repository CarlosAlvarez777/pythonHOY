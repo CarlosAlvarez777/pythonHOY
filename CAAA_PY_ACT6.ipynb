{
  "nbformat": 4,
  "nbformat_minor": 0,
  "metadata": {
    "colab": {
      "provenance": [],
      "authorship_tag": "ABX9TyNCHrOe7il4kQyeis/QVcx4",
      "include_colab_link": true
    },
    "kernelspec": {
      "name": "python3",
      "display_name": "Python 3"
    },
    "language_info": {
      "name": "python"
    }
  },
  "cells": [
    {
      "cell_type": "markdown",
      "metadata": {
        "id": "view-in-github",
        "colab_type": "text"
      },
      "source": [
        "<a href=\"https://colab.research.google.com/github/CarlosAlvarez777/pythonHOY/blob/CAAA_PY_ACT6/CAAA_PY_ACT6.ipynb\" target=\"_parent\"><img src=\"https://colab.research.google.com/assets/colab-badge.svg\" alt=\"Open In Colab\"/></a>"
      ]
    },
    {
      "cell_type": "markdown",
      "source": [
        "1.- FUNCIÓN QUE LEA n CANTIDAD DE NÚMEROS HASTA QUE EL USUARIO LO DESEE, DESPLEGAR LA SUMA DE LOS NÚMEROS, MEDIA Y VALOR DE LOS NÚMEROS MAYORES Y MENORES."
      ],
      "metadata": {
        "id": "0pFLBmP4JZqi"
      }
    },
    {
      "cell_type": "code",
      "source": [
        "import random\n",
        "from IPython.display import clear_output"
      ],
      "metadata": {
        "id": "_ZNbctzIRAL9"
      },
      "execution_count": 1,
      "outputs": []
    },
    {
      "cell_type": "code",
      "execution_count": 2,
      "metadata": {
        "id": "B7a0VuuNJOmh"
      },
      "outputs": [],
      "source": [
        "def vali_num(ri=0,rf=100,msge=\"Inserte un numero: \",error1=\"Error: Rango invalido\",error2=\"Error: valores invalidos\"):\n",
        "    while True:\n",
        "        try:\n",
        "            n = int(input(f\"{msge}\"))\n",
        "        except:\n",
        "            print (error2)\n",
        "            continue\n",
        "        if n < ri or n > rf:\n",
        "            print (error1)\n",
        "            continue\n",
        "        else:\n",
        "            break\n",
        "    return n"
      ]
    },
    {
      "cell_type": "code",
      "source": [
        "def mayor_menor():\n",
        "    clear_output()\n",
        "    i = 0\n",
        "    suma = 0\n",
        "    while True:\n",
        "        try:\n",
        "            n = int(input(\"Inserte un numero: \"))\n",
        "        except:\n",
        "            print(\"Error: valores invalidos\")\n",
        "        else:\n",
        "            if i == 0:\n",
        "                mayor = n\n",
        "                menor = n\n",
        "                suma = suma + n\n",
        "            else:\n",
        "                if n > mayor:\n",
        "                    mayor = n\n",
        "                    suma = suma + n\n",
        "                else:\n",
        "                    if n < menor:\n",
        "                        menor = n\n",
        "                        suma = suma + n\n",
        "            opcion = int(input(\"Desea dejar de insertar valores?\\n0.- Si\\n1.- No\\n\"))\n",
        "            if opcion == 0:\n",
        "                break\n",
        "            else:\n",
        "                i = i + 1\n",
        "    print(f\"La suma de los valores introducidos es: {suma}\\n\")\n",
        "    print(f\"La media de los valores introducidos es: {suma / i}\\n\")\n",
        "    print(f\"El numero mayor de los numeros generados es: {mayor}\\n\")\n",
        "    print(f\"El numero menor de los numeros generados es: {menor}\\n\")\n",
        "    input(\"Presione una tecla para continuar...\")"
      ],
      "metadata": {
        "id": "Tm9qalXzJ1LQ"
      },
      "execution_count": 3,
      "outputs": []
    },
    {
      "cell_type": "markdown",
      "source": [
        "2.- FUNCIÓN QUE GENERE 15 NÚMEROS IMPARES ENTRE 10 Y 60 o MÁXIMO DE 25 NÚMEROS. DESPLEGAR LA MEDIA DE LOS PARES Y MEDIA DE IMPARES."
      ],
      "metadata": {
        "id": "wIhP01-kKFK3"
      }
    },
    {
      "cell_type": "code",
      "source": [
        "def par_impar():\n",
        "    clear_output()\n",
        "    par = 0\n",
        "    impar = 0\n",
        "    j = 0\n",
        "    for i in range(25):\n",
        "        n = random.randint(10,60)\n",
        "        residuo = n%2\n",
        "        if residuo == 0:\n",
        "            print(f\"El numero {n} es par\\n\")\n",
        "            par = par + n\n",
        "        else:\n",
        "            print(f\"El numero {n} es impar\\n\")\n",
        "            impar = impar + n\n",
        "            j = j + 1\n",
        "        if j == 15:\n",
        "            print(\"Fueron los 15 numeros impares\\n\")\n",
        "            break\n",
        "        else:\n",
        "            if i == 24:\n",
        "                print(\"Fueron los 25 numeros\\n\")\n",
        "    print(f\"La media de los numeros pares es: {par / i}\\n\")\n",
        "    print(f\"La media de los numeros impares es: {impar / i}\\n\")\n",
        "    input(\"Presione una tecla para continuar...\")"
      ],
      "metadata": {
        "id": "-dt7k191KLhO"
      },
      "execution_count": 4,
      "outputs": []
    },
    {
      "cell_type": "markdown",
      "source": [
        "3.- FUNCIÓN QUE SIRVA PARA LEER UN RANGO DADO POR EL USUARIO. REPETIR ESTA ACCIÓN HASTA QUE EL USUARIO LO DESEE, DESPLEGAR CANTIDAD DE NUMEROS Y PROMEDIO DE LOS NUMEROS."
      ],
      "metadata": {
        "id": "T4326SpXKR5V"
      }
    },
    {
      "cell_type": "code",
      "source": [
        "def vali_prom():\n",
        "    clear_output()\n",
        "    try:\n",
        "        ri_us = int(input(\"Inserte el rango inicial: \"))\n",
        "        rf_us = int(input(\"Inserte el rango final: \"))\n",
        "    except:\n",
        "        print(\"Error: valores invalidos\")\n",
        "    else:\n",
        "        def vali_num_perso(ri=ri_us,rf=rf_us,msge=\"Inserte un numero: \",error1=\"Error: Rango invalido\",error2=\"Error: valores invalidos\"):\n",
        "            while True:\n",
        "                try:\n",
        "                    n = int(input(f\"{msge}\"))\n",
        "                except:\n",
        "                    print (error2)\n",
        "                    continue\n",
        "                if n < ri or n > rf:\n",
        "                    print (error1)\n",
        "                    continue\n",
        "                else:\n",
        "                    break\n",
        "            return n\n",
        "    finally:\n",
        "        i = 1\n",
        "        suma = 0\n",
        "        while True:\n",
        "            n = vali_num_perso(ri_us,rf_us,\"Inserte un numero dentro del rango: \")\n",
        "            suma = suma + n\n",
        "            opcion = int(input(\"Desea dejar de insertar valores?\\n0.- Si\\n1.- No\\n\"))\n",
        "            if opcion == 0:\n",
        "                break\n",
        "            else:\n",
        "                i = i + 1\n",
        "        print(f\"La cantidad de numeros introducidos es: {i}\")\n",
        "        print(f\"El promedio de los numeros introducidos es: {suma / i}\")\n",
        "        input(\"Presione una tecla para continuar...\")"
      ],
      "metadata": {
        "id": "Pn-roD1TKYt1"
      },
      "execution_count": 5,
      "outputs": []
    },
    {
      "cell_type": "markdown",
      "source": [
        "4.- FUNCIÓN QUE RECIBA COMO PARÁMETRO LOS VALORES PARA EL ÁREA DE UN TRIANGULO Y RETORNE SU RESULTADO"
      ],
      "metadata": {
        "id": "vGqCK9qDKhcU"
      }
    },
    {
      "cell_type": "code",
      "source": [
        "def area_tri():\n",
        "    clear_output()\n",
        "    try:\n",
        "        b = float(input(\"Inserte la base del triangulo: \"))\n",
        "        h = float(input(\"Inserte la altura del triangulo: \"))\n",
        "    except:\n",
        "        print(\"Error: valores invalidos\")\n",
        "    else:\n",
        "        area = (b * h) / 2\n",
        "    finally:\n",
        "        print(f\"El area del triangulo es: {area}\")\n",
        "        input(\"Presione una tecla para continuar...\")\n",
        "        return area"
      ],
      "metadata": {
        "id": "6MnzqbpqKkYs"
      },
      "execution_count": 6,
      "outputs": []
    },
    {
      "cell_type": "markdown",
      "source": [
        "5.- FUNCION QUE SIRVA QUE SIRVA PARA EVALUAR EL PROMEDIO DE 3 CALIFICACIONES DADAS, SI EL USUARIO SU CALIFICACION ES APROBADA MANDAR MSGE QUE DIGA \"felicidades avanzas al siguiente semestre\", SI LA CALIFICACIONE ESTA REPROBADA EL MENSAGE \"repetir materia \" EL ALUMNO TENDRA UN MAXIMO DE CURSAR 3 VESES LA MATERIA, SI LA REPRUEBA 3 VESES MANDAR MSGE \" lastima estas fuera de la UABC\"\n",
        "\n",
        "\n",
        "\n",
        "NOTA: VALIDAR EL PROGRAMA, DEBE MANDAR MSGES DE ERROR DE CALIFICACIONES Y NO PERMITIR LETRAS. ( try: except: )"
      ],
      "metadata": {
        "id": "BhytofTwLawZ"
      }
    },
    {
      "cell_type": "code",
      "source": [
        "def calif():\n",
        "    suma = 0\n",
        "    for i in range(3):\n",
        "        c = vali_num(0,100,\"Inserte su calificacion: \")\n",
        "        suma = suma + c\n",
        "    prom = suma / 3\n",
        "    return prom"
      ],
      "metadata": {
        "id": "IcP-5Ni_LsEZ"
      },
      "execution_count": 7,
      "outputs": []
    },
    {
      "cell_type": "code",
      "source": [
        "def materia():\n",
        "    clear_output()\n",
        "    for i in range(3):\n",
        "        prom = calif()\n",
        "        if prom >= 60:\n",
        "            break\n",
        "        else:\n",
        "            if i < 2:\n",
        "                print (\"Reprobado: Vuelve a intentarlo\")\n",
        "            if i == 2:\n",
        "                i = i + 1\n",
        "\n",
        "    if i == 0:\n",
        "        print (\"Felicidades, eres un genio...\")\n",
        "    elif i > 2:\n",
        "        print (\"Lastima, estas fuera de la UABC\")\n",
        "    else:\n",
        "        print(\"Felicidades, avanzas al siguiente semestre\")\n",
        "    input(\"Presione una tecla para continuar...\")"
      ],
      "metadata": {
        "id": "mawXHXjHLJeq"
      },
      "execution_count": 8,
      "outputs": []
    },
    {
      "cell_type": "code",
      "source": [
        "def msg():\n",
        "    clear_output()\n",
        "    print(\"Menu\\n\")\n",
        "    print(\"1.- Media, mayores y menores de n numeros\\n\")\n",
        "    print(\"2.- Numeros pares e impares aleatorios\\n\")\n",
        "    print(\"3.- Promedio y cantidad de numeros validados\\n\")\n",
        "    print(\"4.- Area de un triangulo\\n\")\n",
        "    print(\"5.- Evaluar promedio\\n\")\n",
        "    print(\"6.- Salir\\n\")\n",
        "    op = int(input(\"Elige una opcion: \"))\n",
        "    return op"
      ],
      "metadata": {
        "id": "ZKxvzMo3Oblg"
      },
      "execution_count": 9,
      "outputs": []
    },
    {
      "cell_type": "code",
      "source": [
        "def menu():\n",
        "    while True:\n",
        "        op = msg()\n",
        "        if op == 1:\n",
        "            mayor_menor()\n",
        "        elif op == 2:\n",
        "            par_impar()\n",
        "        elif op == 3:\n",
        "            vali_prom()\n",
        "        elif op == 4:\n",
        "            area_tri()\n",
        "        elif op == 5:\n",
        "            materia()\n",
        "        else:\n",
        "            break"
      ],
      "metadata": {
        "id": "DAEU5na6OkkW"
      },
      "execution_count": 10,
      "outputs": []
    },
    {
      "cell_type": "code",
      "source": [
        "if __name__ == \"__main__\":\n",
        "    menu()"
      ],
      "metadata": {
        "colab": {
          "base_uri": "https://localhost:8080/"
        },
        "id": "5BcmoT1PP40r",
        "outputId": "02315322-ad48-4140-8b9f-3df369219078"
      },
      "execution_count": 11,
      "outputs": [
        {
          "name": "stdout",
          "output_type": "stream",
          "text": [
            "Menu\n",
            "\n",
            "1.- Media, mayores y menores de n numeros\n",
            "\n",
            "2.- Numeros pares e impares aleatorios\n",
            "\n",
            "3.- Promedio y cantidad de numeros validados\n",
            "\n",
            "4.- Area de un triangulo\n",
            "\n",
            "5.- Evaluar promedio\n",
            "\n",
            "6.- Salir\n",
            "\n",
            "Elige una opcion: 6\n"
          ]
        }
      ]
    }
  ]
}