{
  "nbformat": 4,
  "nbformat_minor": 0,
  "metadata": {
    "colab": {
      "provenance": [],
      "authorship_tag": "ABX9TyOkaz9wuy6FYjy+b8Zb2Ooy",
      "include_colab_link": true
    },
    "kernelspec": {
      "name": "python3",
      "display_name": "Python 3"
    },
    "language_info": {
      "name": "python"
    }
  },
  "cells": [
    {
      "cell_type": "markdown",
      "metadata": {
        "id": "view-in-github",
        "colab_type": "text"
      },
      "source": [
        "<a href=\"https://colab.research.google.com/github/CarlosAlvarez777/pythonHOY/blob/CAAA_PY_ACT5/CAAA_PY_ACT5.ipynb\" target=\"_parent\"><img src=\"https://colab.research.google.com/assets/colab-badge.svg\" alt=\"Open In Colab\"/></a>"
      ]
    },
    {
      "cell_type": "markdown",
      "source": [
        "1.- Programa en Python que genere 40 números aleatorios entre el 0 y 200, desplegar los números y la leyenda de cada número si es par o impar , la cantidad de los números pares e impares así como la suma de los números pares o impares."
      ],
      "metadata": {
        "id": "LefgQTAVg1qV"
      }
    },
    {
      "cell_type": "code",
      "execution_count": 3,
      "metadata": {
        "id": "3L3z-XMsguKb"
      },
      "outputs": [],
      "source": [
        "import random"
      ]
    },
    {
      "cell_type": "code",
      "source": [
        "j=0;\n",
        "k=0;\n",
        "par=0;\n",
        "impar=0;\n",
        "for i in range(40):\n",
        "    n = random.randint(0,200)\n",
        "    residuo = n%2\n",
        "    if residuo == 0:\n",
        "        print(f\"El numero {n} es par\\n\")\n",
        "        par = par + n\n",
        "        j = j + 1\n",
        "    else:\n",
        "        print(f\"El numero {n} es par\\n\")\n",
        "        impar = impar + n\n",
        "        k = k + 1\n",
        "print(f\"La cantidad de numeros pares es: {j}\\n\")\n",
        "print(f\"La suma de los numeros pares es: {par}\\n\")\n",
        "print(f\"La cantidad de numeros impares es: {k}\\n\")\n",
        "print(f\"La suma de los numeros impares es: {impar}\\n\")"
      ],
      "metadata": {
        "colab": {
          "base_uri": "https://localhost:8080/"
        },
        "id": "3uPCcxe3h7ce",
        "outputId": "4bb96454-75bc-4694-cb9b-d65ec6aa41d5"
      },
      "execution_count": null,
      "outputs": [
        {
          "output_type": "stream",
          "name": "stdout",
          "text": [
            "El numero 32 es par\n",
            "\n",
            "El numero 88 es par\n",
            "\n",
            "El numero 159 es par\n",
            "\n",
            "El numero 137 es par\n",
            "\n",
            "El numero 191 es par\n",
            "\n",
            "El numero 109 es par\n",
            "\n",
            "El numero 168 es par\n",
            "\n",
            "El numero 160 es par\n",
            "\n",
            "El numero 163 es par\n",
            "\n",
            "El numero 78 es par\n",
            "\n",
            "El numero 4 es par\n",
            "\n",
            "El numero 42 es par\n",
            "\n",
            "El numero 53 es par\n",
            "\n",
            "El numero 118 es par\n",
            "\n",
            "El numero 25 es par\n",
            "\n",
            "El numero 82 es par\n",
            "\n",
            "El numero 97 es par\n",
            "\n",
            "El numero 136 es par\n",
            "\n",
            "El numero 138 es par\n",
            "\n",
            "El numero 199 es par\n",
            "\n",
            "El numero 55 es par\n",
            "\n",
            "El numero 127 es par\n",
            "\n",
            "El numero 176 es par\n",
            "\n",
            "El numero 3 es par\n",
            "\n",
            "El numero 55 es par\n",
            "\n",
            "El numero 142 es par\n",
            "\n",
            "El numero 31 es par\n",
            "\n",
            "El numero 123 es par\n",
            "\n",
            "El numero 182 es par\n",
            "\n",
            "El numero 155 es par\n",
            "\n",
            "El numero 1 es par\n",
            "\n",
            "El numero 130 es par\n",
            "\n",
            "El numero 198 es par\n",
            "\n",
            "El numero 52 es par\n",
            "\n",
            "El numero 80 es par\n",
            "\n",
            "El numero 191 es par\n",
            "\n",
            "El numero 15 es par\n",
            "\n",
            "El numero 164 es par\n",
            "\n",
            "El numero 66 es par\n",
            "\n",
            "El numero 3 es par\n",
            "\n",
            "La cantidad de numeros pares es: 20\n",
            "\n",
            "La suma de los numeros pares es: 2236\n",
            "\n",
            "La cantidad de numeros impares es: 20\n",
            "\n",
            "La suma de los numeros impares es: 1892\n",
            "\n"
          ]
        }
      ]
    },
    {
      "cell_type": "markdown",
      "source": [
        "2.- Programa en Python que despliegue la tabla de multiplicar de un número dado (número entre el 1 y 20).\n",
        "\n",
        "Tabla del 5\n",
        "\n",
        "5 * 1 = 5\n",
        "\n",
        "5* 2 = 10\n",
        "\n",
        ".\n",
        "\n",
        ".\n",
        "\n",
        ".\n",
        "\n",
        "5*10=50"
      ],
      "metadata": {
        "id": "03ElaMWvos8w"
      }
    },
    {
      "cell_type": "code",
      "source": [
        "try:\n",
        "    n = int(input(\"Inserte la tabla que desea desplegar: \"))\n",
        "except:\n",
        "    print(\"Error: valor invalido.\")\n",
        "else:\n",
        "    print(f\"Haz seleccionado la tabla del {n}\\n\")\n",
        "    for i in range(10):\n",
        "        print(f\"{n} x {i + 1} = {n * (i + 1)}\\n\")"
      ],
      "metadata": {
        "colab": {
          "base_uri": "https://localhost:8080/"
        },
        "id": "wOl0Qj0ro135",
        "outputId": "38f24a49-e4ad-4a6c-fd33-d4ac98de9f12"
      },
      "execution_count": null,
      "outputs": [
        {
          "output_type": "stream",
          "name": "stdout",
          "text": [
            "Inserte la tabla que desea desplegar: 7\n",
            "Haz seleccionado la tabla del 7\n",
            "\n",
            "7 x 1 = 7\n",
            "\n",
            "7 x 2 = 14\n",
            "\n",
            "7 x 3 = 21\n",
            "\n",
            "7 x 4 = 28\n",
            "\n",
            "7 x 5 = 35\n",
            "\n",
            "7 x 6 = 42\n",
            "\n",
            "7 x 7 = 49\n",
            "\n",
            "7 x 8 = 56\n",
            "\n",
            "7 x 9 = 63\n",
            "\n",
            "7 x 10 = 70\n",
            "\n"
          ]
        }
      ]
    },
    {
      "cell_type": "markdown",
      "source": [
        "3.- Programa en Python que lea una calificación, las calificación deberá estar en el rango de 0 a 100, si hay un error de captura, mostrar mensaje de error. con la calificación correcta mostrar msg de aprobado reprobado."
      ],
      "metadata": {
        "id": "lta6Nin_sJL7"
      }
    },
    {
      "cell_type": "code",
      "source": [
        "def vali_num(ri=0,rf=100,msge=\"Inserte un numero: \",error1=\"Error: Rango invalido\",error2=\"Error: valores invalidos\"):\n",
        "    while True:\n",
        "        try:\n",
        "            n = int(input(f\"{msge}\"))\n",
        "        except:\n",
        "            print (error2)\n",
        "            continue\n",
        "        if n < ri or n > rf:\n",
        "            print (error1)\n",
        "            continue\n",
        "        else:\n",
        "            break\n",
        "    return n"
      ],
      "metadata": {
        "id": "StKE3_NisYlA"
      },
      "execution_count": 5,
      "outputs": []
    },
    {
      "cell_type": "code",
      "source": [
        "n = vali_num(0,100,\"Inserte su calificacion: \")\n",
        "if n < 60:\n",
        "    print(\"Reprobado\")\n",
        "else:\n",
        "    print(\"Aprobado\")"
      ],
      "metadata": {
        "colab": {
          "base_uri": "https://localhost:8080/"
        },
        "id": "uIgwnWYLbocm",
        "outputId": "768b9d44-b3cb-46b6-b818-759a314c0a39"
      },
      "execution_count": null,
      "outputs": [
        {
          "output_type": "stream",
          "name": "stdout",
          "text": [
            "Inserte su calificacion: 100\n",
            "Aprobado\n"
          ]
        }
      ]
    },
    {
      "cell_type": "markdown",
      "source": [
        "4.- Programa en Python que lea n cantidad de números enteros dentro de un rango dado (> 0 ) , el programa deberá terminar cuando el usuario introduzca el número cero.\n",
        "\n",
        "Desplegar la suma de números y la media."
      ],
      "metadata": {
        "id": "IJoyPdUjfbOb"
      }
    },
    {
      "cell_type": "code",
      "source": [
        "suma = 0\n",
        "for i in range(1,100):\n",
        "    try:\n",
        "        n = int(input(\"Inserte un numero entero positivo: \"))\n",
        "    except:\n",
        "        print(\"Error: valor invalido\")\n",
        "    else:\n",
        "        if n <= 0:\n",
        "            i = i - 1\n",
        "            break\n",
        "        else:\n",
        "            suma = suma + n\n",
        "print(f\"La suma de los numeros es: {suma}\")\n",
        "print(f\"La media de los numeros es: {suma / i}\")"
      ],
      "metadata": {
        "colab": {
          "base_uri": "https://localhost:8080/"
        },
        "id": "rARxT4xwfoCU",
        "outputId": "6df5c4cd-5b47-4da8-91fc-c867b4bd778e"
      },
      "execution_count": null,
      "outputs": [
        {
          "output_type": "stream",
          "name": "stdout",
          "text": [
            "Inserte un numero entero positivo: 15\n",
            "Inserte un numero entero positivo: 30\n",
            "Inserte un numero entero positivo: 45\n",
            "Inserte un numero entero positivo: 60\n",
            "Inserte un numero entero positivo: 75\n",
            "Inserte un numero entero positivo: 90\n",
            "Inserte un numero entero positivo: 105\n",
            "Inserte un numero entero positivo: 0\n",
            "La suma de los numeros es: 420\n",
            "La media de los numeros es: 60.0\n"
          ]
        }
      ]
    },
    {
      "cell_type": "markdown",
      "source": [
        "5.- Programa en Python que sirva para leer el promedio de una materia. donde el usuario tendrá un máximo de 3 oportunidades de cursar la materia, si el promedio es aprobado, felicitarlo y continuar el siguiente semestre, si promedio es reprobado deberá salir mensaje de repetir materia o es baja académica si ha reprobado 3 veces."
      ],
      "metadata": {
        "id": "bj_YKrHQl-KN"
      }
    },
    {
      "cell_type": "code",
      "source": [
        "def materia():\n",
        "    for i in range(3):\n",
        "        prom = vali_num(0,100,\"Inserte su promedio: \")\n",
        "        if prom >= 60:\n",
        "            break\n",
        "        else:\n",
        "            print (\"Vuelve a intentarlo\")\n",
        "            if prom < 60:\n",
        "                if i == 3:\n",
        "                    i = i + 1\n",
        "\n",
        "    if i == 0:\n",
        "        print (\"Felicidades, eres un genio...\")\n",
        "    elif i > 3:\n",
        "        print (\"Ni con tus tres oportunidades aprobaste\")\n",
        "    else:\n",
        "        print(\"Felicidades, aprobaste\")\n",
        "\n",
        "materia()"
      ],
      "metadata": {
        "colab": {
          "base_uri": "https://localhost:8080/"
        },
        "id": "m_ZqQz-CmF5y",
        "outputId": "4696fc72-b6b7-42a7-a1a9-079e4a924450"
      },
      "execution_count": null,
      "outputs": [
        {
          "output_type": "stream",
          "name": "stdout",
          "text": [
            "Inserte su promedio: 100\n",
            "Felicidades, eres un genio...\n"
          ]
        }
      ]
    },
    {
      "cell_type": "markdown",
      "source": [
        "1.- función que lea n cantidad de números hasta que el usuario lo desee, desplegar la suma de los números, media y valor de los números mayores y menores.\n",
        "\n",
        "\n",
        "\n",
        "2.- función que genere 15 números impares entre 10 y 60 o máximo de 25 números. desplegar la media de los pares y media de impares.\n",
        "\n",
        "\n",
        "\n",
        "3.- función que sirva para leer y validar un número dentro de un rango dado por el usuario. repetir esta acción hasta que el usuario lo desee, desplegar cantidad de números y promedio de los números..\n",
        "\n",
        "\n",
        "\n",
        "4.- función que reciba como parámetro los valores para el área de un triángulo y retorne su resultado\n",
        "\n",
        "\n",
        "\n",
        "5.- función que sirva para validar un número dentro de un rango dado."
      ],
      "metadata": {
        "id": "4BWVhnEat_Km"
      }
    },
    {
      "cell_type": "code",
      "source": [
        "def msg():\n",
        "    print(\"Menu\\n\")\n",
        "    print(\"1.- Media, mayores y menores de n numeros\\n\")\n",
        "    print(\"2.- Numeros pares e impares aleatorios\\n\")\n",
        "    print(\"3.- Promedio y cantidad de numeros validados\\n\")\n",
        "    print(\"4.- Area de un triangulo\\n\")\n",
        "    print(\"5.- Validar un numero\\n\")\n",
        "    print(\"6.- Salir\\n\")\n",
        "    op = int(input(\"Elige una opcion: \"))\n",
        "    return op\n",
        "\n",
        "def menu():\n",
        "    while True:\n",
        "        op = msg()\n",
        "        if op == 1:\n",
        "            mayor_menor()\n",
        "        elif op == 2:\n",
        "            par_impar()\n",
        "        elif op == 3:\n",
        "            vali_prom()\n",
        "        elif op == 4:\n",
        "            area_tri()\n",
        "        elif op == 5:\n",
        "            validar()\n",
        "        else:\n",
        "            break\n",
        "def mayor_menor():\n",
        "    i = 0\n",
        "    suma = 0\n",
        "    while True:\n",
        "        n = int(input(\"Inserte un numero: \"))\n",
        "        if i == 0:\n",
        "            mayor = n\n",
        "            menor = n\n",
        "            suma = suma + n\n",
        "        else:\n",
        "            if n > mayor:\n",
        "                mayor = n\n",
        "                suma = suma + n\n",
        "            else:\n",
        "                if n < menor:\n",
        "                    menor = n\n",
        "                    suma = suma + n\n",
        "        opcion = int(input(\"Desea dejar de insertar valores?\\n0.- Si\\n1.- No\\n\"))\n",
        "        if opcion == 0:\n",
        "            break\n",
        "        else:\n",
        "            i = i + 1\n",
        "    print(f\"La suma de los valores introducidos es: {suma}\\n\")\n",
        "    print(f\"La media de los valores introducidos es: {suma / i}\\n\")\n",
        "    print(f\"El numero mayor de los numeros generados es: {mayor}\\n\")\n",
        "    print(f\"El numero menor de los numeros generados es: {menor}\\n\")\n",
        "def par_impar():\n",
        "    par=0;\n",
        "    impar=0;\n",
        "    for i in range(15):\n",
        "        n = random.randint(10,60)\n",
        "        residuo = n%2\n",
        "        if residuo == 0:\n",
        "            print(f\"El numero {n} es par\\n\")\n",
        "            par = par + n\n",
        "        else:\n",
        "            print(f\"El numero {n} es par\\n\")\n",
        "            impar = impar + n\n",
        "    print(f\"La media de los numeros pares es: {par / i}\\n\")\n",
        "    print(f\"La media de los numeros impares es: {impar / i}\\n\")\n",
        "def vali_prom():\n",
        "    try:\n",
        "        ri_us = int(input(\"Inserte el rango inicial: \"))\n",
        "        rf_us = int(input(\"Inserte el rango final: \"))\n",
        "    except:\n",
        "        print(\"Error: valores invalidos\")\n",
        "    else:\n",
        "        def vali_num_perso(ri=ri_us,rf=rf_us,msge=\"Inserte un numero: \",error1=\"Error: Rango invalido\",error2=\"Error: valores invalidos\"):\n",
        "            while True:\n",
        "                try:\n",
        "                    n = int(input(f\"{msge}\"))\n",
        "                except:\n",
        "                    print (error2)\n",
        "                    continue\n",
        "                if n < ri or n > rf:\n",
        "                    print (error1)\n",
        "                    continue\n",
        "                else:\n",
        "                    break\n",
        "            return n\n",
        "    finally:\n",
        "        i = 0\n",
        "        suma = 0\n",
        "        while True:\n",
        "            n = vali_num_perso(ri_us,rf_us,\"Inserte un numero dentro del rango: \")\n",
        "            suma = suma + n\n",
        "            opcion = int(input(\"Desea dejar de insertar valores?\\n0.- Si\\n1.- No\\n\"))\n",
        "            if opcion == 0:\n",
        "                break\n",
        "            else:\n",
        "                i = i + 1\n",
        "        print(f\"La cantidad de numeros introducidos es: {i}\")\n",
        "        print(f\"El promedio de los numeros introducidos es: {suma / i}\")\n",
        "def area_tri():\n",
        "    try:\n",
        "        b = float(input(\"Inserte la base del triangulo: \"))\n",
        "        h = float(input(\"Inserte la altura del triangulo: \"))\n",
        "    except:\n",
        "        print(\"Error: valores invalidos\")\n",
        "    else:\n",
        "        area = (b * h) / 2\n",
        "    finally:\n",
        "        print(f\"El area del triangulo es: {area}\")\n",
        "        return area\n",
        "    os.system(\"pause\")\n",
        "def validar():\n",
        "    n = vali_num(0,100,\"Inserte un numero: \")\n",
        "    print(\"El numero esta validado\")"
      ],
      "metadata": {
        "id": "xxQmIbU_uMmU"
      },
      "execution_count": 8,
      "outputs": []
    },
    {
      "cell_type": "code",
      "source": [
        "if __name__ == \"__main__\":\n",
        "    menu()"
      ],
      "metadata": {
        "id": "IoVlo7gWuEsD",
        "colab": {
          "base_uri": "https://localhost:8080/"
        },
        "outputId": "4606ebf9-c481-4b6b-abb3-2ad1635fdd85"
      },
      "execution_count": 9,
      "outputs": [
        {
          "name": "stdout",
          "output_type": "stream",
          "text": [
            "Menu\n",
            "\n",
            "1.- Media, mayores y menores de n numeros\n",
            "\n",
            "2.- Numeros pares e impares aleatorios\n",
            "\n",
            "3.- Promedio y cantidad de numeros validados\n",
            "\n",
            "4.- Area de un triangulo\n",
            "\n",
            "5.- Validar un numero\n",
            "\n",
            "6.- Salir\n",
            "\n",
            "Elige una opcion: 4\n",
            "Inserte la base del triangulo: 5\n",
            "Inserte la altura del triangulo: 2\n",
            "El area del triangulo es: 5.0\n",
            "Menu\n",
            "\n",
            "1.- Media, mayores y menores de n numeros\n",
            "\n",
            "2.- Numeros pares e impares aleatorios\n",
            "\n",
            "3.- Promedio y cantidad de numeros validados\n",
            "\n",
            "4.- Area de un triangulo\n",
            "\n",
            "5.- Validar un numero\n",
            "\n",
            "6.- Salir\n",
            "\n",
            "Elige una opcion: 6\n"
          ]
        }
      ]
    }
  ]
}