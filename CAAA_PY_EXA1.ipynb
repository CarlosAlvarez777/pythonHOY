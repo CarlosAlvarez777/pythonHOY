{
  "nbformat": 4,
  "nbformat_minor": 0,
  "metadata": {
    "colab": {
      "provenance": [],
      "authorship_tag": "ABX9TyPo3jqhdXxX3L5ZcKx/TtuR",
      "include_colab_link": true
    },
    "kernelspec": {
      "name": "python3",
      "display_name": "Python 3"
    },
    "language_info": {
      "name": "python"
    }
  },
  "cells": [
    {
      "cell_type": "markdown",
      "metadata": {
        "id": "view-in-github",
        "colab_type": "text"
      },
      "source": [
        "<a href=\"https://colab.research.google.com/github/CarlosAlvarez777/pythonHOY/blob/CAAA_PY_EXA1/CAAA_PY_EXA1.ipynb\" target=\"_parent\"><img src=\"https://colab.research.google.com/assets/colab-badge.svg\" alt=\"Open In Colab\"/></a>"
      ]
    },
    {
      "cell_type": "code",
      "source": [
        "def rango(ri, rs):\n",
        "    try:\n",
        "        num = int(input(\"Introduce un número: \"))\n",
        "        if ri <= num <= rs:\n",
        "            return num\n",
        "        else:\n",
        "            print(f\"Error: El número debe estar en el rango [{ri}, {rs}]\")\n",
        "            return rango(i, rs)\n",
        "    except ValueError:\n",
        "        print(\"Error: Por favor, introduce un número válido.\")\n",
        "        return rango(ri, rs)\n",
        "\n",
        "ri = 1\n",
        "rs = 100\n",
        "num_o = rango(ri, rs)\n",
        "print(f\"El número obtenido dentro del rango es: {num_o}\")\n"
      ],
      "metadata": {
        "colab": {
          "base_uri": "https://localhost:8080/"
        },
        "id": "A-pZs0oHtgVl",
        "outputId": "9ebaedaf-7fc2-47ad-e022-d3617f387bf3"
      },
      "execution_count": 18,
      "outputs": [
        {
          "output_type": "stream",
          "name": "stdout",
          "text": [
            "Introduce un número: 77\n",
            "El número obtenido dentro del rango es: 77\n"
          ]
        }
      ]
    },
    {
      "cell_type": "code",
      "source": [
        "import random"
      ],
      "metadata": {
        "id": "8FUUBCdGwMa8"
      },
      "execution_count": 19,
      "outputs": []
    },
    {
      "cell_type": "code",
      "source": [
        "def generar_lista_aleatoria():\n",
        "    numeros_aleatorios = random.sample(range(20, 101), 30)\n",
        "    return numeros_aleatorios\n",
        "\n",
        "lista_aleatoria = generar_lista_aleatoria()\n",
        "print(\"Lista de 30 números aleatorios no repetidos en el rango (20-100):\")\n",
        "print(lista_aleatoria)"
      ],
      "metadata": {
        "colab": {
          "base_uri": "https://localhost:8080/"
        },
        "id": "nVpWOWhQwGMF",
        "outputId": "c6146dcb-45ac-4b5c-cb78-0784774b1456"
      },
      "execution_count": 20,
      "outputs": [
        {
          "output_type": "stream",
          "name": "stdout",
          "text": [
            "Lista de 30 números aleatorios no repetidos en el rango (20-100):\n",
            "[95, 21, 51, 62, 28, 43, 71, 64, 59, 58, 90, 31, 35, 61, 82, 83, 68, 84, 97, 94, 87, 42, 46, 66, 29, 99, 57, 65, 25, 88]\n"
          ]
        }
      ]
    },
    {
      "cell_type": "code",
      "source": [
        "def fact(num):\n",
        "    if num == 0 or num == 1:\n",
        "        return 1\n",
        "    else:\n",
        "        return num * fact(num - 1)\n",
        "\n",
        "num_dado = 7\n",
        "res_fact = fact(num_dado)\n",
        "print(f\"El factorial de {num_dado} es: {res_fact}\")\n"
      ],
      "metadata": {
        "colab": {
          "base_uri": "https://localhost:8080/"
        },
        "id": "z_Bj2j7HwqHl",
        "outputId": "e1dcade7-040f-4e49-b593-f98d01f9443e"
      },
      "execution_count": 21,
      "outputs": [
        {
          "output_type": "stream",
          "name": "stdout",
          "text": [
            "El factorial de 7 es: 5040\n"
          ]
        }
      ]
    }
  ]
}