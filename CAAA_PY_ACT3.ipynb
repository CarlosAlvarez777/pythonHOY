{
  "nbformat": 4,
  "nbformat_minor": 0,
  "metadata": {
    "colab": {
      "provenance": [],
      "authorship_tag": "ABX9TyPFtdj0HiXTGfadTLQ6cS2U",
      "include_colab_link": true
    },
    "kernelspec": {
      "name": "python3",
      "display_name": "Python 3"
    },
    "language_info": {
      "name": "python"
    }
  },
  "cells": [
    {
      "cell_type": "markdown",
      "metadata": {
        "id": "view-in-github",
        "colab_type": "text"
      },
      "source": [
        "<a href=\"https://colab.research.google.com/github/CarlosAlvarez777/pythonHOY/blob/CAAA_PY_ACT3/CAAA_PY_ACT3.ipynb\" target=\"_parent\"><img src=\"https://colab.research.google.com/assets/colab-badge.svg\" alt=\"Open In Colab\"/></a>"
      ]
    },
    {
      "cell_type": "markdown",
      "source": [
        "1.- Algoritmo que lea 3 calificaciones calcule el promedio del alumno y desplegar:\n",
        "\n",
        "Si prom < 30 Repetir\n",
        "\n",
        "Si prom >=30 y prom <60 extraordinario\n",
        "\n",
        "Si prom >=60 y prom <70 suficiente\n",
        "\n",
        "Si prom >=70 y prom <80 Regular\n",
        "\n",
        "Si prom >=80 y prom <90 bien\n",
        "\n",
        "Si prom >=90 y prom <98 muy bien\n",
        "\n",
        "Si prom >=98 y prom <=100 excelente\n",
        "\n",
        "Si prom >100 Error en promedio\n",
        "\n",
        "Realizar el algoritmo optimizado"
      ],
      "metadata": {
        "id": "YT95CbAzRbC_"
      }
    },
    {
      "cell_type": "code",
      "execution_count": null,
      "metadata": {
        "colab": {
          "base_uri": "https://localhost:8080/"
        },
        "id": "om5nDWpNRTzK",
        "outputId": "6465ad8d-3c67-4746-ecab-946be8636d9e"
      },
      "outputs": [
        {
          "output_type": "stream",
          "name": "stdout",
          "text": [
            "Inserte su calificacion: 100\n",
            "Inserte su calificacion: 100\n",
            "Inserte su calificacion: 100\n",
            "Excelente\n"
          ]
        }
      ],
      "source": [
        "c1 = float(input(\"Inserte su calificacion: \"))\n",
        "c2 = float(input(\"Inserte su calificacion: \"))\n",
        "c3 = float(input(\"Inserte su calificacion: \"))\n",
        "prom = (c1 + c2 + c3) / 3\n",
        "if prom < 80:\n",
        "  if prom < 60:\n",
        "    if prom < 30:\n",
        "      print (\"Repetir\")\n",
        "    else:\n",
        "      print (\"Extraordinario\")\n",
        "  else:\n",
        "    if prom < 70:\n",
        "      print (\"Suficiente\")\n",
        "    else:\n",
        "      print (\"Regular\")\n",
        "else:\n",
        "  if prom < 98:\n",
        "    if prom < 90:\n",
        "      print (\"Bien\")\n",
        "    else:\n",
        "      print (\"Muy bien\")\n",
        "  else:\n",
        "    if prom > 100:\n",
        "      print (\"Error\")\n",
        "    else:\n",
        "      print (\"Excelente\")"
      ]
    },
    {
      "cell_type": "markdown",
      "source": [
        "2.- Algoritmo que sirva para calcular el salario semanal de un trabajador donde se obtiene como dato de entrada las horas semanales trabajadas, el salario por hora.\n",
        "\n",
        "El programa deberá calcular el salario normal, salario extra y salario total, considerando lo siguiente:\n",
        "\n",
        "Jornada Normal de 40 horas.\n",
        "El salario normal se considera las horas trabajadas menores o igual a la jornada normal\n",
        "Salario extra se considera las horas trabajadas mayores a la jornada normal y se pagan dobles las primeras 9 y triples a partir de la décima hora extra\n",
        "\n",
        "\n",
        "Nota: Desplegar todos los datos (Salario x hora, Horas Trabajadas, Salario normal, Salario extra y Salario Total)"
      ],
      "metadata": {
        "id": "AEUmtxItMxrh"
      }
    },
    {
      "cell_type": "code",
      "source": [
        "horas = int(input(\"Ingrese las horas semanales trabajadas: \"))\n",
        "sh = float(input(\"Ingrese el salario por hora: \"))\n",
        "if horas <= 40:\n",
        "  sn = horas*sh\n",
        "  st = sn\n",
        "  se = 0\n",
        "else:\n",
        "  if horas > 40:\n",
        "    he=horas + 9\n",
        "    if horas > he:\n",
        "      sn = horas * sh\n",
        "      se = sh * 3\n",
        "      st = sn + se\n",
        "    else:\n",
        "      sn = horas * sh\n",
        "      se = sh * 2\n",
        "      st = sn + se\n",
        "print(\"Salario por hora: \", sh)\n",
        "print(\"Horas trabajadas: \", horas)\n",
        "print(\"Salario normal: \", sn)\n",
        "print(\"Salario extra: \", se)\n",
        "print(\"Salario total: \", st)"
      ],
      "metadata": {
        "colab": {
          "base_uri": "https://localhost:8080/"
        },
        "id": "ug67PLn8M70p",
        "outputId": "dce0219b-1c01-4168-c89f-e5b1ffd9251f"
      },
      "execution_count": null,
      "outputs": [
        {
          "output_type": "stream",
          "name": "stdout",
          "text": [
            "Ingrese las horas semanales trabajadas: 41\n",
            "Ingrese el salario por hora: 300\n",
            "Salario por hora:  300.0\n",
            "Horas trabajadas:  41\n",
            "Salario normal:  12300.0\n",
            "Salario extra:  600.0\n",
            "Salario total:  12900.0\n"
          ]
        }
      ]
    },
    {
      "cell_type": "markdown",
      "source": [
        "3.- Algoritmo que sirva para desplegar el Total de una llamada telefónica donde se pide como datos de entrada los minutos y el tipo de llamada, se cobra de la siguiente manera:\n",
        "\n",
        "  1.- Llamada Local $3.00 sin límite de tiempo\n",
        "\n",
        "  2.- Llamada Nacional $7.00 por los 3 primeros minutos y\n",
        "  \n",
        "  $2.00 minuto adicional\n",
        "\n",
        "  3.- Llamada Internacional $9.00 por los 2 primeros minutos y\n",
        "  \n",
        "  $4.00 minuto adicional\n",
        "\n",
        " Desplegar, Subtotal, Iva (16%) y Total."
      ],
      "metadata": {
        "id": "pnZgtXbqcCPg"
      }
    },
    {
      "cell_type": "code",
      "source": [
        "min = float(input(\"Inserte la duracion de la llamada en minutos: \"))\n",
        "print (\"Tipos de llamada: \\n(1)Llamada Local\\n(2)Llamada Nacional\\n(3)Llamada Internacional\")\n",
        "tipo = int(input(\"Ingrese el tipo de llamada: \"))\n",
        "if tipo == 1:\n",
        "  subtotal = 3\n",
        "else:\n",
        "  if tipo == 2:\n",
        "    if min > 3:\n",
        "      subtotal = ((min - 3) * 2) + 7\n",
        "    else:\n",
        "      subtotal = 7\n",
        "  else:\n",
        "    if min > 2:\n",
        "      subtotal = ((min - 2) * 4) + 9\n",
        "iva = subtotal * 0.16\n",
        "total = subtotal + iva\n",
        "print (\"Subtotal: \", subtotal)\n",
        "print (\"IVA:\", iva)\n",
        "print (\"Total\", total)"
      ],
      "metadata": {
        "colab": {
          "base_uri": "https://localhost:8080/"
        },
        "id": "9ylCQ5eJcL6W",
        "outputId": "b5afd9c6-f777-4c45-ea17-42404a73f40b"
      },
      "execution_count": null,
      "outputs": [
        {
          "output_type": "stream",
          "name": "stdout",
          "text": [
            "Inserte la duracion de la llamada en minutos: 120\n",
            "Tipos de llamada: \n",
            "(1)Llamada Local\n",
            "(2)Llamada Nacional\n",
            "(3)Llamada Internacional\n",
            "Ingrese el tipo de llamada: 3\n",
            "Subtotal:  481.0\n",
            "IVA: 76.96000000000001\n",
            "Total 557.96\n"
          ]
        }
      ]
    },
    {
      "cell_type": "markdown",
      "source": [
        "4.- Algoritmo que sirva para calcular el Total a pagar por consumo de agua, donde el dato de entrada son los M3 de agua consumidos, Tomar en cuenta que se cobra escalonada de la Siguiente manera:\n",
        "\n",
        "Rango 1: 0 a 4 M^3 $50 x facturación sin importar cuánto consumió en este rango\n",
        "\n",
        "Rango 2: 5 a 15 M^3 $8.00 x M3\n",
        "\n",
        "Rango 3: 16 a 50 M^3 $10.00 x M3\n",
        "\n",
        "Rango 4: 51 M^3 en adelante $11.00 x M3\n",
        "\n",
        "Nota: Desplegar SubTotal, Iva(16%), y Total a pagar."
      ],
      "metadata": {
        "id": "4abZvEYfifDr"
      }
    },
    {
      "cell_type": "code",
      "source": [
        "mc = float(input(\"Inserte los metros cubicos de agua consumidos: \"))\n",
        "if mc < 16:\n",
        "  if mc < 5:\n",
        "    print (\"Consumo rango 1\")\n",
        "    subtotal = 50\n",
        "  else:\n",
        "    print (\"Consumo rango 2\")\n",
        "    subtotal = mc * 8\n",
        "else:\n",
        "  if mc <= 50:\n",
        "    print (\"Consumo rango 3\")\n",
        "    subtotal = mc * 10\n",
        "  else:\n",
        "    print (\"Consumo rango 4\")\n",
        "    subtotal = mc * 11\n",
        "iva = subtotal * 0.16\n",
        "total = subtotal + iva\n",
        "print (\"Subtotal: \", subtotal)\n",
        "print (\"IVA:\", iva)\n",
        "print (\"Total\", total)"
      ],
      "metadata": {
        "colab": {
          "base_uri": "https://localhost:8080/"
        },
        "id": "LOHUztMbjeu7",
        "outputId": "a7815bcd-5ee6-49ba-d840-883a7dd84ca4"
      },
      "execution_count": null,
      "outputs": [
        {
          "output_type": "stream",
          "name": "stdout",
          "text": [
            "Inserte los metros cubicos de agua consumidos: 4\n",
            "Consumo rango 1\n",
            "Subtotal:  50\n",
            "IVA: 8.0\n",
            "Total 58.0\n"
          ]
        }
      ]
    },
    {
      "cell_type": "markdown",
      "source": [
        "5- En la materia de Metodología de la programación se aplican 5 exámenes, calcular el promedio final de la materia donde la calificación menor de los exámenes se anula y el promedio se calcula en base a 4 exámenes.\n",
        "\n",
        "Desplegar el promedio final."
      ],
      "metadata": {
        "id": "HZg8J1X3q6CM"
      }
    },
    {
      "cell_type": "code",
      "source": [
        "c1 = float(input(\"Inserte la calificacion del examen: \"))\n",
        "c2 = float(input(\"Inserte la calificacion del examen: \"))\n",
        "c3 = float(input(\"Inserte la calificacion del examen: \"))\n",
        "c4 = float(input(\"Inserte la calificacion del examen: \"))\n",
        "c5 = float(input(\"Inserte la calificacion del examen: \"))\n",
        "if c1<c2:\n",
        "\tif c1<c3:\n",
        "\t\tif c1<c4:\n",
        "\t\t\tif c1<c5:\n",
        "\t\t\t\tprint(\"Al ser menor se anula la calificacion \",c1)\n",
        "\t\t\t\tprom = (c2+c3+c4+c5)/4\n",
        "\t\t\telse:\n",
        "\t\t\t\tprint(\"Al ser menor se anula la calificacion \",c5)\n",
        "\t\t\t\tprom = (c1+c2+c3+c4)/4\n",
        "\t\telse:\n",
        "\t\t\tif c4<c5:\n",
        "\t\t\t\tprint(\"Al ser menor se anula la calificacion \",c4)\n",
        "\t\t\t\tprom = (c1+c2+c3+c5)/4\n",
        "\t\t\telse:\n",
        "\t\t\t\tprint(\"Al ser menor se anula la calificacion \",c5)\n",
        "\t\t\t\tprom = (c1+c2+c3+c4)/4\n",
        "\telse:\n",
        "\t\tif c3<c4:\n",
        "\t\t\tif c3<c5:\n",
        "\t\t\t\tprint(\"Al ser menor se anula la calificacion \",c3)\n",
        "\t\t\t\tprom = (c1+c2+c4+c5)/4\n",
        "\t\t\telse:\n",
        "\t\t\t\tprint(\"Al ser menor se anula la calificacion \",c5)\n",
        "\t\t\t\tprom = (c1+c2+c3+c4)/4\n",
        "\t\telse:\n",
        "\t\t\tif c4<c5:\n",
        "\t\t\t\tprint(\"Al ser menor se anula la calificacion \",c4)\n",
        "\t\t\t\tprom = (c1+c2+c3+c5)/4\n",
        "\t\t\telse:\n",
        "\t\t\t\tprint(\"Al ser menor se anula la calificacion \",c5)\n",
        "\t\t\t\tprom = (c1+c2+c3+c4)/4\n",
        "else:\n",
        "\tif c2<c3:\n",
        "\t\tif c2<c4:\n",
        "\t\t\tif c2>c5:\n",
        "\t\t\t\tprint(\"Al ser menor se anula la calificacion \",c2)\n",
        "\t\t\t\tprom = (c1+c3+c4+c5)/4\n",
        "\t\t\telse:\n",
        "\t\t\t\tprint(\"Al ser menor se anula la calificacion \",c5)\n",
        "\t\t\t\tprom = (c1+c2+c3+c4)/4\n",
        "\t\telse:\n",
        "\t\t\tif c4<c5:\n",
        "\t\t\t\tprint(\"Al ser menor se anula la calificacion \",c4)\n",
        "\t\t\t\tprom = (c1+c2+c3+c5)/4\n",
        "\t\t\telse:\n",
        "\t\t\t\tprint(\"Al ser menor se anula la calificacion \",c5)\n",
        "\t\t\t\tprom = (c1+c2+c3+c4)/4\n",
        "\telse:\n",
        "\t\tif c3<c4:\n",
        "\t\t\tif c3<c5:\n",
        "\t\t\t\tprint(\"Al ser menor se anula la calificacion \",c3)\n",
        "\t\t\t\tprom = (c1+c2+c4+c5)/4\n",
        "\t\t\telse:\n",
        "\t\t\t\tprint(\"Al ser menor se anula la calificacion \",c5)\n",
        "\t\t\t\tprom = (c1+c2+c3+c4)/4\n",
        "\t\telse:\n",
        "\t\t\tif c4<c5:\n",
        "\t\t\t\tprint(\"Al ser menor se anula la calificacion \",c4)\n",
        "\t\t\t\tprom = (c1+c2+c3+c5)/4\n",
        "\t\t\telse:\n",
        "\t\t\t\tprint(\"Al ser menor se anula la calificacion \",c5)\n",
        "\t\t\t\tprom = (c1+c2+c3+c4)/4\n",
        "print (\"Promedio: \",prom)"
      ],
      "metadata": {
        "colab": {
          "base_uri": "https://localhost:8080/"
        },
        "id": "dojeupLDq-vs",
        "outputId": "ac53e12a-ab42-4bb5-c41e-3a1c49ba30ac"
      },
      "execution_count": null,
      "outputs": [
        {
          "output_type": "stream",
          "name": "stdout",
          "text": [
            "Inserte la calificacion del examen: 80\n",
            "Inserte la calificacion del examen: 73\n",
            "Inserte la calificacion del examen: 60\n",
            "Inserte la calificacion del examen: 100\n",
            "Inserte la calificacion del examen: 90\n",
            "Al ser menor se anula la calificacion  60.0\n",
            "Promedio:  85.75\n"
          ]
        }
      ]
    },
    {
      "cell_type": "markdown",
      "source": [
        "6.- Algoritmo que sirva para el juego del CHINCHAMPU (Piedra, Papel, Tijera) para 1 jugador y la computadora, (usar condición anidada)"
      ],
      "metadata": {
        "id": "Q6gvQ7OK_eRY"
      }
    },
    {
      "cell_type": "code",
      "source": [
        "import random"
      ],
      "metadata": {
        "id": "E0XGvWeP9zFf"
      },
      "execution_count": 4,
      "outputs": []
    },
    {
      "cell_type": "code",
      "source": [
        "pc = random.randint(1,3)\n",
        "print(\"Elige una opcion:\")\n",
        "print(\"1 = Piedra\")\n",
        "print(\"2 = Papel\")\n",
        "print(\"3 = Tijera\")\n",
        "jugador = int(input())\n",
        "if jugador==1:\n",
        "\tprint(\"El usuario ha seleccionado piedra\")\n",
        "else:\n",
        "\tif jugador==2:\n",
        "\t\tprint(\"El usuario ha seleccionado papel\")\n",
        "\telse:\n",
        "\t\tif jugador==3:\n",
        "\t\t\tprint(\"El usuario ha selecionado tijeras\")\n",
        "\t\telse:\n",
        "\t\t\tprint(\"El usuario pierde\")\n",
        "if pc==1:\n",
        "    print(\"La pc ha seleccionado piedra\")\n",
        "else:\n",
        "\tif pc==2:\n",
        "\t\tprint(\"La pc ha seleccionado papel\")\n",
        "\telse:\n",
        "\t\tif pc==3:\n",
        "\t\t\tprint(\"La pc ha selecionado tijeras\")\n",
        "\t\telse:\n",
        "\t\t\tprint(\"El usuario pierde\")\n",
        "if jugador==pc:\n",
        "\tprint(\"Es un empate\")\n",
        "else:\n",
        "\tif jugador==1:\n",
        "\t\tif pc==3:\n",
        "\t\t\tprint(\"El ganador es el usuario\")\n",
        "\telse:\n",
        "\t\tif jugador==2:\n",
        "\t\t\tif pc==1:\n",
        "\t\t\t\tprint(\"El ganador es el usuario\")\n",
        "\t\telse:\n",
        "\t\t\tif jugador==3:\n",
        "\t\t\t\tif pc==2:\n",
        "\t\t\t\t\tprint(\"El ganador es el usuario\")\n",
        "\t\t\telse:\n",
        "\t\t\t\tprint(\"El ganador es la pc\")"
      ],
      "metadata": {
        "colab": {
          "base_uri": "https://localhost:8080/"
        },
        "id": "2iSEgGo995hW",
        "outputId": "d8acf39c-bf45-4bed-9dae-695ad2f85d22"
      },
      "execution_count": 23,
      "outputs": [
        {
          "output_type": "stream",
          "name": "stdout",
          "text": [
            "Elige una opcion:\n",
            "1 = Piedra\n",
            "2 = Papel\n",
            "3 = Tijera\n",
            "3\n",
            "El usuario ha selecionado tijeras\n",
            "La pc ha seleccionado papel\n",
            "El ganador es el usuario\n"
          ]
        }
      ]
    },
    {
      "cell_type": "markdown",
      "source": [
        "7.- Algoritmo que sirva para el juego del CHINCHAMPU (Piedra, Papel, Tijera) para 1 jugador y la computadora, (usar selección múltiple)\n",
        "\n"
      ],
      "metadata": {
        "id": "DVEp2LV__k2X"
      }
    },
    {
      "cell_type": "code",
      "source": [
        "pc = random.randint(1,3)\n",
        "print(\"Elige una opcion:\")\n",
        "print(\"1 = Piedra\")\n",
        "print(\"2 = Papel\")\n",
        "print(\"3 = Tijera\")\n",
        "jugador = int(input())\n",
        "if jugador==1:\n",
        "    print(\"El usuario ha seleccionado piedra\")\n",
        "elif jugador==2:\n",
        "        print(\"El usuario ha seleccionado papel\")\n",
        "elif jugador==3:\n",
        "        print(\"El usuario ha selecionado tijeras\")\n",
        "else:\n",
        "    print(\"Error: No se puede seleccionar otra cosa que no sea piedra, papel o tijera.\")\n",
        "if pc==1:\n",
        "    print(\"La pc ha seleccionado piedra\")\n",
        "elif pc==2:\n",
        "    print(\"La pc ha seleccionado papel\")\n",
        "elif pc==3:\n",
        "    print(\"La pc ha selecionado tijeras\")\n",
        "else:\n",
        "    print(\"Error: No se puede seleccionar otra cosa que no sea piedra, papel o tijera.\")\n",
        "if jugador==pc:\n",
        "\t\tprint(\"Es un empate\")\n",
        "elif jugador==1:\n",
        "    if pc==3:\n",
        "        print(\"El ganador es el usuario\")\n",
        "elif jugador==2:\n",
        "    if pc==1:\n",
        "        print(\"El ganador es el usuario\")\n",
        "elif jugador==3:\n",
        "    if pc==2:\n",
        "        print(\"El ganador es el usuario\")\n",
        "else:\n",
        "    print(\"El ganador es la pc\")"
      ],
      "metadata": {
        "id": "4Gl8aI5s9zku",
        "colab": {
          "base_uri": "https://localhost:8080/"
        },
        "outputId": "d2b61ec6-e233-4dfb-92a7-e71e91426d4a"
      },
      "execution_count": 24,
      "outputs": [
        {
          "output_type": "stream",
          "name": "stdout",
          "text": [
            "Elige una opcion:\n",
            "1 = Piedra\n",
            "2 = Papel\n",
            "3 = Tijera\n",
            "3\n",
            "El usuario ha selecionado tijeras\n",
            "La pc ha seleccionado papel\n",
            "El ganador es el usuario\n"
          ]
        }
      ]
    },
    {
      "cell_type": "markdown",
      "source": [
        "8.- Una tienda de electrónica ofrece descuentos a sus clientes, dependiendo del tipo de producto que compren. Si el cliente compra una computadora, tiene un descuento del 5% en el precio de la computadora y un 10% de descuento en una impresora si la compra junto con la computadora. Si el cliente compra una televisión, tiene un descuento del 7% en el precio de la televisión y un 15% de descuento en una barra de sonido si la compra junto con la televisión. Si el cliente compra una consola de videojuegos, tiene un descuento del 10% en el precio de la consola y un 20% de descuento en un juego si lo compra junto con la consola. Escribe un programa que calcule el precio a pagar por un cliente, tomando en cuenta los descuentos correspondientes."
      ],
      "metadata": {
        "id": "nfOG4wHH_oC4"
      }
    },
    {
      "cell_type": "code",
      "source": [
        "print(\"¿Que va a comprar comprar?\")\n",
        "print(\"1.- Computadora\")\n",
        "print(\"2.- Television\")\n",
        "print(\"3.- Consola de videojuegos\")\n",
        "producto = int(input())\n",
        "if producto == 1:\n",
        "    computadora = float(input(\"Inserte el costo de la computadora en pesos: \"))\n",
        "    print(\"¿Quiere llevarse una impresora con la computadora?\")\n",
        "    opcion = int(input(\"1.- Si\\n2.- No\\n\"))\n",
        "    if opcion == 1:\n",
        "        impresora = float(input(\"Inserte el costo de la impresora en pesos: \"))\n",
        "        descuento = computadora * 0.10\n",
        "        total = (computadora + impresora) - descuento\n",
        "    else:\n",
        "        descuento = computadora * 0.05\n",
        "        total = computadora - descuento\n",
        "elif producto == 2:\n",
        "    television = float(input(\"Inserte el costo de la television en pesos: \"))\n",
        "    print(\"¿Quiere llevarse una barra de sonido con la television?\")\n",
        "    opcion = int(input(\"1.- Si\\n2.- No\\n\"))\n",
        "    if opcion == 1:\n",
        "        barra = float(input(\"Inserte el costo de la barra de sonido en pesos: \"))\n",
        "        descuento = television * 0.15\n",
        "        total = (television + barra) - descuento\n",
        "    else:\n",
        "        descuento = television * 0.07\n",
        "        total = television - descuento\n",
        "elif producto == 3:\n",
        "    consola = float(input(\"Inserte el costo de la consola de videojuegos en pesos: \"))\n",
        "    print(\"¿Quiere llevarse un juego con la consola?\")\n",
        "    opcion = int(input(\"1.- Si\\n2.- No\\n\"))\n",
        "    if opcion == 1:\n",
        "        juego = float(input(\"Inserte el costo del juego en pesos: \"))\n",
        "        descuento = consola * 0.20\n",
        "        total = (consola + juego) - descuento\n",
        "    else:\n",
        "        descuento = consola * 0.10\n",
        "        total = consola - descuento\n",
        "print(f\"El precio total a pagar es: {total}\")"
      ],
      "metadata": {
        "id": "F6hK0Meb90H-",
        "colab": {
          "base_uri": "https://localhost:8080/"
        },
        "outputId": "91d3618e-afd3-44ab-a8bf-7c5a5014af52"
      },
      "execution_count": 28,
      "outputs": [
        {
          "output_type": "stream",
          "name": "stdout",
          "text": [
            "¿Que va a comprar comprar?\n",
            "1.- Computadora\n",
            "2.- Television\n",
            "3.- Consola de videojuegos\n",
            "3\n",
            "Inserte el costo de la consola de videojuegos en pesos: 8000\n",
            "¿Quiere llevarse un juego con la consola?\n",
            "1.- Si\n",
            "2.- No\n",
            "1\n",
            "Inserte el costo del juego en pesos: 680\n",
            "El precio total a pagar es: 7080.0\n"
          ]
        }
      ]
    },
    {
      "cell_type": "markdown",
      "source": [
        "9.- En una tienda de ropa, los precios de los productos cambian dependiendo de la temporada. Durante la temporada de verano, todos los productos tienen un descuento del 20%. Durante la temporada de invierno, los productos con etiqueta roja tienen un descuento del 30% y los productos con etiqueta verde tienen un descuento del 15%. Durante la temporada de primavera y otoño, los productos con etiqueta amarilla tienen un descuento del 10%. Escribe un programa que calcule el precio a pagar por un cliente, tomando en cuenta los descuentos correspondientes."
      ],
      "metadata": {
        "id": "WbhJbyXa_pNx"
      }
    },
    {
      "cell_type": "code",
      "source": [
        "print (\"Temporadas:\")\n",
        "print (\"(1)Invierno\\n(2)Primavera u Otoño\\n(3)Verano\\nTipo de etiqueta:\\n(1)Verde\\n(2)Roja\\n(3)Amarilla\\n\")\n",
        "precio = float(input(\"Inserte el costo de la prenda: \"))\n",
        "temp = int(input(\"Inserte la temporada: \"))\n",
        "color = int(input(\"Inserte el color de la etiqueta: \"))\n",
        "if temp == 1:\n",
        "  if color == 2:\n",
        "    descuento = 0.30\n",
        "  else:\n",
        "    if color == 1:\n",
        "      descuento = 0.15\n",
        "else:\n",
        "  if temp == 2:\n",
        "    if color == 3:\n",
        "      descuento = 0.10\n",
        "    else:\n",
        "      descuento = 0\n",
        "  else:\n",
        "    descuento = 0.20\n",
        "total = precio - (precio * descuento)\n",
        "print (f\"Tiene un descuento de: {descuento * 100}%\")\n",
        "print (f\"Su total es: ${total}\")"
      ],
      "metadata": {
        "colab": {
          "base_uri": "https://localhost:8080/"
        },
        "id": "fXcZTigY_reL",
        "outputId": "3706d2a8-7cb1-4bde-a856-159a46f853f1"
      },
      "execution_count": null,
      "outputs": [
        {
          "output_type": "stream",
          "name": "stdout",
          "text": [
            "Temporadas:\n",
            "(1)Invierno\n",
            "(2)Primavera u Otoño\n",
            "(3)Verano\n",
            "Tipo de etiqueta:\n",
            "(1)Verde\n",
            "(2)Roja\n",
            "(3)Amarilla\n",
            "\n",
            "Inserte el costo de la prenda: 200\n",
            "Inserte la temporada: 1\n",
            "Inserte el color de la etiqueta: 2\n",
            "Tiene un descuento de: 30.0%\n",
            "Su total es: $140.0\n"
          ]
        }
      ]
    },
    {
      "cell_type": "markdown",
      "source": [
        "10.- Un restaurante ofrece descuentos a sus clientes, dependiendo del día de la semana y del tipo de menú que pidan. Los lunes, los clientes que pidan el menú del día tienen un descuento del 10%. Los martes, los clientes que pidan el menú infantil tienen un descuento del 20%. Los miércoles, los clientes que pidan el menú vegetariano tienen un descuento del 15%. Los jueves, los clientes que pidan el menú del chef tienen un descuento del 5%. Los viernes, los clientes que pidan el menú del día tienen un descuento del 5%. Los sábados y domingos no hay descuentos. Escribe un programa que calcule el precio a pagar por un cliente, tomando en cuenta los descuentos correspondientes."
      ],
      "metadata": {
        "id": "REfEfNL7HPgU"
      }
    },
    {
      "cell_type": "code",
      "source": [
        "print(\"Inserte el dia de la semana: \")\n",
        "print(\"1.- Lunes\")\n",
        "print(\"2.- Martes\")\n",
        "print(\"3.- Miercoles\")\n",
        "print(\"4.- Jueves\")\n",
        "print(\"5.- Viernes\")\n",
        "print(\"6.- Sabado\")\n",
        "print(\"7.- Domingo\")\n",
        "dia = int(input())\n",
        "print(\"Inserte el menu que va a llevar: \")\n",
        "print(\"1.- Menu normal\")\n",
        "print(\"2.- Menu del dia\")\n",
        "print(\"3.- Menu infantil\")\n",
        "print(\"4.- Menu vegetariano\")\n",
        "print(\"5.- Menu de chef\")\n",
        "menu = int(input())\n",
        "costo = float(input(\"Inserte el costo del menu: \"))\n",
        "if dia == 1:\n",
        "    if menu == 2:\n",
        "        descuento = 0.10\n",
        "    else:\n",
        "        descuento = 0\n",
        "elif dia == 2:\n",
        "    if menu == 3:\n",
        "        descuento = 0.20\n",
        "    else:\n",
        "        descuento = 0\n",
        "elif dia == 3:\n",
        "    if menu == 4:\n",
        "        descuento = 0.15\n",
        "    else:\n",
        "        descuento = 0\n",
        "elif dia == 4:\n",
        "    if menu == 5:\n",
        "        descuento = 0.05\n",
        "    else:\n",
        "        descuento = 0\n",
        "elif dia == 5:\n",
        "    if menu == 2:\n",
        "        descuento = 0.05\n",
        "    else:\n",
        "        descuento = 0\n",
        "elif dia >= 6:\n",
        "    descuento = 0\n",
        "else:\n",
        "    print(\"Error\")\n",
        "total = costo - (costo * descuento)\n",
        "print(f\"El precio total a pagar es: {total}\")"
      ],
      "metadata": {
        "colab": {
          "base_uri": "https://localhost:8080/"
        },
        "id": "iKJ8rmdqHR0e",
        "outputId": "14ef56be-2781-4847-f257-130baa498ca4"
      },
      "execution_count": 31,
      "outputs": [
        {
          "output_type": "stream",
          "name": "stdout",
          "text": [
            "Inserte el dia de la semana: \n",
            "1.- Lunes\n",
            "2.- Martes\n",
            "3.- Miercoles\n",
            "4.- Jueves\n",
            "5.- Viernes\n",
            "6.- Sabado\n",
            "7.- Domingo\n",
            "4\n",
            "Inserte el menu que va a llevar: \n",
            "1.- Menu normal\n",
            "2.- Menu del dia\n",
            "3.- Menu infantil\n",
            "4.- Menu vegetariano\n",
            "5.- Menu de chef\n",
            "5\n",
            "Inserte el costo del menu: 512\n",
            "El precio total a pagar es: 486.4\n"
          ]
        }
      ]
    }
  ]
}