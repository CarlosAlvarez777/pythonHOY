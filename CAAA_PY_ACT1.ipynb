{
  "nbformat": 4,
  "nbformat_minor": 0,
  "metadata": {
    "colab": {
      "provenance": [],
      "authorship_tag": "ABX9TyOk1isI+dS2QqqfsSvUFTpa",
      "include_colab_link": true
    },
    "kernelspec": {
      "name": "python3",
      "display_name": "Python 3"
    },
    "language_info": {
      "name": "python"
    }
  },
  "cells": [
    {
      "cell_type": "markdown",
      "metadata": {
        "id": "view-in-github",
        "colab_type": "text"
      },
      "source": [
        "<a href=\"https://colab.research.google.com/github/CarlosAlvarez777/pythonHOY/blob/main/CAAA_PY_ACT1.ipynb\" target=\"_parent\"><img src=\"https://colab.research.google.com/assets/colab-badge.svg\" alt=\"Open In Colab\"/></a>"
      ]
    },
    {
      "cell_type": "markdown",
      "source": [
        "1.- Programa en Python Mostrar un mensaje que diga “HOLA MUNDO” en un solo renglón usando 2 print"
      ],
      "metadata": {
        "id": "BoJpf1y64YOu"
      }
    },
    {
      "cell_type": "code",
      "source": [
        "print(\"Hola\", end= \" \")\n",
        "print(\"Mundo\")"
      ],
      "metadata": {
        "colab": {
          "base_uri": "https://localhost:8080/"
        },
        "id": "Ocbfm3Wh4eTy",
        "outputId": "94d542af-adbd-487f-b0e6-9772abb9b776"
      },
      "execution_count": null,
      "outputs": [
        {
          "output_type": "stream",
          "name": "stdout",
          "text": [
            "Hola Mundo\n"
          ]
        }
      ]
    },
    {
      "cell_type": "markdown",
      "source": [
        "2.- Programa en Python que lea 2 números, realizar la suma y desplegar la suma de los 2 números"
      ],
      "metadata": {
        "id": "sIKzrPRC6I_o"
      }
    },
    {
      "cell_type": "code",
      "source": [
        "n1 = int(input(\"Inserte un numero: \"))\n",
        "n2 = int(input(\"Inserte otro numero: \"))\n",
        "suma = n1 + n2\n",
        "print(f\"La suma entre ellos es {n1} + {n2} = {suma}.\")"
      ],
      "metadata": {
        "colab": {
          "base_uri": "https://localhost:8080/"
        },
        "id": "OjDydmn46OHU",
        "outputId": "79fbbcce-0afc-4771-ffe3-3ea43e032098"
      },
      "execution_count": null,
      "outputs": [
        {
          "output_type": "stream",
          "name": "stdout",
          "text": [
            "Inserte un numero: 12\n",
            "Inserte otro numero: 1\n",
            "La suma entre ellos es 12 + 1 = 13.\n"
          ]
        }
      ]
    },
    {
      "cell_type": "markdown",
      "source": [
        "3.- Programa en Python que lea 2 números y realice las 4 operaciones básicas"
      ],
      "metadata": {
        "id": "Hriy5kP87oWw"
      }
    },
    {
      "cell_type": "code",
      "source": [
        "n1 = int(input(\"Inserte un numero: \"))\n",
        "n2 = int(input(\"Inserte otro numero: \"))\n",
        "suma = n1 + n2\n",
        "resta = n1 - n2\n",
        "multiplicacion = n1 * n2\n",
        "division = n1 / n2\n",
        "print(f\"La suma entre ellos es {n1} + {n2} = {suma}.\")\n",
        "print(f\"La resta entre ellos es {n1} - {n2} = {resta}.\")\n",
        "print(f\"La multiplicacion entre ellos es {n1} x {n2} = {multiplicacion}.\")\n",
        "print(f\"La division entre ellos es {n1} / {n2} = {division}.\")"
      ],
      "metadata": {
        "colab": {
          "base_uri": "https://localhost:8080/"
        },
        "id": "91zZWBcg7stF",
        "outputId": "9ed491d3-ee43-4978-c943-3315cfd80546"
      },
      "execution_count": null,
      "outputs": [
        {
          "output_type": "stream",
          "name": "stdout",
          "text": [
            "Inserte un numero: 13\n",
            "Inserte otro numero: 21\n",
            "La suma entre ellos es 13 + 21 = 34.\n",
            "La resta entre ellos es 13 - 21 = -8.\n",
            "La multiplicacion entre ellos es 13 x 21 = 273.\n",
            "La division entre ellos es 13 / 21 = 0.6190476190476191.\n"
          ]
        }
      ]
    },
    {
      "cell_type": "markdown",
      "source": [
        "4.- Programa en Python que sirva para calcular el área de un triángulo"
      ],
      "metadata": {
        "id": "kdtxzRGX9KdB"
      }
    },
    {
      "cell_type": "code",
      "source": [
        "base = int(input(\"Inserte la base de triangulo: \"))\n",
        "altura = int(input(\"Inserte la altura del triangulo: \"))\n",
        "area = (base * altura) / 2\n",
        "print(f\"El area del triangulo es {area}.\")"
      ],
      "metadata": {
        "colab": {
          "base_uri": "https://localhost:8080/"
        },
        "id": "QwZYQ7Wl9Q3R",
        "outputId": "7a725576-50c8-430a-c3bb-eaefefe6ac11"
      },
      "execution_count": null,
      "outputs": [
        {
          "output_type": "stream",
          "name": "stdout",
          "text": [
            "Inserte la base de triangulo: 5\n",
            "Inserte la altura del triangulo: 4\n",
            "El area del triangulo es 10.0.\n"
          ]
        }
      ]
    },
    {
      "cell_type": "markdown",
      "source": [
        "5.- Programa en Python que lea una medida en centímetros y desplegar la misma medida pero convertida en pies y pulgadas"
      ],
      "metadata": {
        "id": "Q07MHtzw-L_V"
      }
    },
    {
      "cell_type": "code",
      "source": [
        "centimetros = float(input(\"Inserte la medida en centimetros: \"))\n",
        "pies = centimetros / 30.48\n",
        "pulgadas = centimetros / 2.54\n",
        "print(f\"Los centimetros convertidos a pies son {pies} ft y convertidos a pulgadas son {pulgadas} in.\")"
      ],
      "metadata": {
        "colab": {
          "base_uri": "https://localhost:8080/"
        },
        "id": "cqP__Q1a-P23",
        "outputId": "150cba44-350f-4c56-d3da-e000eed1f8f9"
      },
      "execution_count": null,
      "outputs": [
        {
          "output_type": "stream",
          "name": "stdout",
          "text": [
            "Inserte la medida en centimetros: 30.48\n",
            "Los centimetros convertidos a pies son 1.0 ft y convertidos a pulgadas son 12.0 in.\n"
          ]
        }
      ]
    },
    {
      "cell_type": "markdown",
      "source": [
        "6.- Programa en Python que lea una temperatura en grados centígrados y desplegarla en Grados Fahrenheit y grados kelvin"
      ],
      "metadata": {
        "id": "pD4rDlYFEHk0"
      }
    },
    {
      "cell_type": "code",
      "source": [
        "centigrados = float(input(\"Inserte la temperatura en centigrados: \"))\n",
        "fahrenheit = (centigrados * (9/5)) + 32\n",
        "kelvin = centigrados + 273.15\n",
        "print(f\"Los grados centigrados convertidos a Fahrenheit son {fahrenheit} y convertidos a Kelvin son {kelvin}.\")"
      ],
      "metadata": {
        "colab": {
          "base_uri": "https://localhost:8080/"
        },
        "id": "AzeQg3gAEO4x",
        "outputId": "1c4f2fda-b3d4-4155-dee8-7d162ddf54f2"
      },
      "execution_count": null,
      "outputs": [
        {
          "output_type": "stream",
          "name": "stdout",
          "text": [
            "Inserte la temperatura en centigrados: 503.85\n",
            "Los grados centigrados convertidos a Fahrenheit son 938.9300000000001 y convertidos a Kelvin son 777.0.\n"
          ]
        }
      ]
    },
    {
      "cell_type": "markdown",
      "source": [
        "7.- Programa en Python que lea 4 calificaciones de un alumno, desplegar el promedio del alumno"
      ],
      "metadata": {
        "id": "bxpeLaxzHDAn"
      }
    },
    {
      "cell_type": "code",
      "source": [
        "cal1 = float(input(\"Inserte la primera calificacion del alumno: \"))\n",
        "cal2 = float(input(\"Inserte la segunda calificacion del alumno: \"))\n",
        "cal3 = float(input(\"Inserte la tercera calificacion del alumno: \"))\n",
        "cal4 = float(input(\"Inserte la cuarta calificacion del alumno: \"))\n",
        "prom = (cal1 + cal2 + cal3 + cal4) / 4\n",
        "print(f\"El promedio del alumno es: {prom}\")"
      ],
      "metadata": {
        "colab": {
          "base_uri": "https://localhost:8080/"
        },
        "id": "gxKu5o5CHJVc",
        "outputId": "e5d06cc2-4d9b-41d9-9220-6b19bd23e128"
      },
      "execution_count": null,
      "outputs": [
        {
          "output_type": "stream",
          "name": "stdout",
          "text": [
            "Inserte la primera calificacion del alumno: 80\n",
            "Inserte la segunda calificacion del alumno: 90\n",
            "Inserte la tercera calificacion del alumno: 100\n",
            "Inserte la cuarta calificacion del alumno: 100\n",
            "El promedio del alumno es: 92.5\n"
          ]
        }
      ]
    }
  ]
}